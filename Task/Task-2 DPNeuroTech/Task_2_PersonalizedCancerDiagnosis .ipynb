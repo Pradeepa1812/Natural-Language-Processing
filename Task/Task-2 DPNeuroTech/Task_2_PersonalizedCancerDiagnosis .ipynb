{
  "nbformat": 4,
  "nbformat_minor": 0,
  "metadata": {
    "colab": {
      "name": "Task-2 PersonalizedCancerDiagnosis.ipynb",
      "provenance": [],
      "collapsed_sections": []
    },
    "kernelspec": {
      "name": "python3",
      "display_name": "Python 3"
    },
    "accelerator": "GPU"
  },
  "cells": [
    {
      "cell_type": "markdown",
      "metadata": {
        "id": "bK5pZkPYhMTp"
      },
      "source": [
        "<h1>Personalized CancerDiagnosis -Task-2<h2>"
      ]
    },
    {
      "cell_type": "markdown",
      "metadata": {
        "id": "ulZp--A7hP9g"
      },
      "source": [
        "<h4>Importing the required libraries</h4>"
      ]
    },
    {
      "cell_type": "code",
      "metadata": {
        "colab": {
          "base_uri": "https://localhost:8080/"
        },
        "id": "Y2ISz_r2g-MQ",
        "outputId": "48cbae04-3449-4b41-fd8a-ac6dd2cb0503"
      },
      "source": [
        "import numpy as np\r\n",
        "import pandas as pd\r\n",
        "import matplotlib.pyplot as plt\r\n",
        "import seaborn as sns\r\n",
        "from sklearn.metrics.classification import log_loss\r\n",
        "import sys"
      ],
      "execution_count": 1,
      "outputs": [
        {
          "output_type": "stream",
          "text": [
            "/usr/local/lib/python3.6/dist-packages/sklearn/utils/deprecation.py:144: FutureWarning: The sklearn.metrics.classification module is  deprecated in version 0.22 and will be removed in version 0.24. The corresponding classes / functions should instead be imported from sklearn.metrics. Anything that cannot be imported from sklearn.metrics is now part of the private API.\n",
            "  warnings.warn(message, FutureWarning)\n"
          ],
          "name": "stderr"
        }
      ]
    },
    {
      "cell_type": "markdown",
      "metadata": {
        "id": "j9OGMwkthT3P"
      },
      "source": [
        "Read the data with the help of pandas"
      ]
    },
    {
      "cell_type": "code",
      "metadata": {
        "colab": {
          "base_uri": "https://localhost:8080/"
        },
        "id": "7uQ2r0RNhGyg",
        "outputId": "c4871a9e-4d4d-4652-de03-4ff0481b2ed9"
      },
      "source": [
        "data_var=pd.read_csv('training_variants_.txt',sep=',')\r\n",
        "data_text=pd.read_csv('training_text_.txt',sep='\\|\\|',names=['ID','Text'],skiprows=1)"
      ],
      "execution_count": 2,
      "outputs": [
        {
          "output_type": "stream",
          "text": [
            "/usr/local/lib/python3.6/dist-packages/ipykernel_launcher.py:2: ParserWarning: Falling back to the 'python' engine because the 'c' engine does not support regex separators (separators > 1 char and different from '\\s+' are interpreted as regex); you can avoid this warning by specifying engine='python'.\n",
            "  \n"
          ],
          "name": "stderr"
        }
      ]
    },
    {
      "cell_type": "code",
      "metadata": {
        "colab": {
          "base_uri": "https://localhost:8080/",
          "height": 204
        },
        "id": "tXwJIbpzhW_0",
        "outputId": "6345cafc-d3de-4f67-9d11-d73cc0cf4d7f"
      },
      "source": [
        "data_text.head()"
      ],
      "execution_count": 3,
      "outputs": [
        {
          "output_type": "execute_result",
          "data": {
            "text/html": [
              "<div>\n",
              "<style scoped>\n",
              "    .dataframe tbody tr th:only-of-type {\n",
              "        vertical-align: middle;\n",
              "    }\n",
              "\n",
              "    .dataframe tbody tr th {\n",
              "        vertical-align: top;\n",
              "    }\n",
              "\n",
              "    .dataframe thead th {\n",
              "        text-align: right;\n",
              "    }\n",
              "</style>\n",
              "<table border=\"1\" class=\"dataframe\">\n",
              "  <thead>\n",
              "    <tr style=\"text-align: right;\">\n",
              "      <th></th>\n",
              "      <th>ID</th>\n",
              "      <th>Text</th>\n",
              "    </tr>\n",
              "  </thead>\n",
              "  <tbody>\n",
              "    <tr>\n",
              "      <th>0</th>\n",
              "      <td>0</td>\n",
              "      <td>Cyclin-dependent kinases (CDKs) regulate a var...</td>\n",
              "    </tr>\n",
              "    <tr>\n",
              "      <th>1</th>\n",
              "      <td>1</td>\n",
              "      <td>Abstract Background  Non-small cell lung canc...</td>\n",
              "    </tr>\n",
              "    <tr>\n",
              "      <th>2</th>\n",
              "      <td>2</td>\n",
              "      <td>Abstract Background  Non-small cell lung canc...</td>\n",
              "    </tr>\n",
              "    <tr>\n",
              "      <th>3</th>\n",
              "      <td>3</td>\n",
              "      <td>Recent evidence has demonstrated that acquired...</td>\n",
              "    </tr>\n",
              "    <tr>\n",
              "      <th>4</th>\n",
              "      <td>4</td>\n",
              "      <td>Oncogenic mutations in the monomeric Casitas B...</td>\n",
              "    </tr>\n",
              "  </tbody>\n",
              "</table>\n",
              "</div>"
            ],
            "text/plain": [
              "   ID                                               Text\n",
              "0   0  Cyclin-dependent kinases (CDKs) regulate a var...\n",
              "1   1   Abstract Background  Non-small cell lung canc...\n",
              "2   2   Abstract Background  Non-small cell lung canc...\n",
              "3   3  Recent evidence has demonstrated that acquired...\n",
              "4   4  Oncogenic mutations in the monomeric Casitas B..."
            ]
          },
          "metadata": {
            "tags": []
          },
          "execution_count": 3
        }
      ]
    },
    {
      "cell_type": "code",
      "metadata": {
        "colab": {
          "base_uri": "https://localhost:8080/",
          "height": 204
        },
        "id": "jurYB0qYhYoF",
        "outputId": "87da16c6-1e7b-4c0f-f8a4-75d6329a3070"
      },
      "source": [
        "data_var.head()"
      ],
      "execution_count": 4,
      "outputs": [
        {
          "output_type": "execute_result",
          "data": {
            "text/html": [
              "<div>\n",
              "<style scoped>\n",
              "    .dataframe tbody tr th:only-of-type {\n",
              "        vertical-align: middle;\n",
              "    }\n",
              "\n",
              "    .dataframe tbody tr th {\n",
              "        vertical-align: top;\n",
              "    }\n",
              "\n",
              "    .dataframe thead th {\n",
              "        text-align: right;\n",
              "    }\n",
              "</style>\n",
              "<table border=\"1\" class=\"dataframe\">\n",
              "  <thead>\n",
              "    <tr style=\"text-align: right;\">\n",
              "      <th></th>\n",
              "      <th>ID</th>\n",
              "      <th>Gene</th>\n",
              "      <th>Variation</th>\n",
              "      <th>Class</th>\n",
              "    </tr>\n",
              "  </thead>\n",
              "  <tbody>\n",
              "    <tr>\n",
              "      <th>0</th>\n",
              "      <td>0</td>\n",
              "      <td>FAM58A</td>\n",
              "      <td>Truncating Mutations</td>\n",
              "      <td>1</td>\n",
              "    </tr>\n",
              "    <tr>\n",
              "      <th>1</th>\n",
              "      <td>1</td>\n",
              "      <td>CBL</td>\n",
              "      <td>W802*</td>\n",
              "      <td>2</td>\n",
              "    </tr>\n",
              "    <tr>\n",
              "      <th>2</th>\n",
              "      <td>2</td>\n",
              "      <td>CBL</td>\n",
              "      <td>Q249E</td>\n",
              "      <td>2</td>\n",
              "    </tr>\n",
              "    <tr>\n",
              "      <th>3</th>\n",
              "      <td>3</td>\n",
              "      <td>CBL</td>\n",
              "      <td>N454D</td>\n",
              "      <td>3</td>\n",
              "    </tr>\n",
              "    <tr>\n",
              "      <th>4</th>\n",
              "      <td>4</td>\n",
              "      <td>CBL</td>\n",
              "      <td>L399V</td>\n",
              "      <td>4</td>\n",
              "    </tr>\n",
              "  </tbody>\n",
              "</table>\n",
              "</div>"
            ],
            "text/plain": [
              "   ID    Gene             Variation  Class\n",
              "0   0  FAM58A  Truncating Mutations      1\n",
              "1   1     CBL                 W802*      2\n",
              "2   2     CBL                 Q249E      2\n",
              "3   3     CBL                 N454D      3\n",
              "4   4     CBL                 L399V      4"
            ]
          },
          "metadata": {
            "tags": []
          },
          "execution_count": 4
        }
      ]
    },
    {
      "cell_type": "markdown",
      "metadata": {
        "id": "Mmp8BzIeJ49d"
      },
      "source": [
        "Summary of the dataset"
      ]
    },
    {
      "cell_type": "code",
      "metadata": {
        "colab": {
          "base_uri": "https://localhost:8080/"
        },
        "id": "ntaKu_XUhaTo",
        "outputId": "a87cb73d-bd1b-469f-cd44-2bccd20e45da"
      },
      "source": [
        "data_var.info()"
      ],
      "execution_count": 5,
      "outputs": [
        {
          "output_type": "stream",
          "text": [
            "<class 'pandas.core.frame.DataFrame'>\n",
            "RangeIndex: 3321 entries, 0 to 3320\n",
            "Data columns (total 4 columns):\n",
            " #   Column     Non-Null Count  Dtype \n",
            "---  ------     --------------  ----- \n",
            " 0   ID         3321 non-null   int64 \n",
            " 1   Gene       3321 non-null   object\n",
            " 2   Variation  3321 non-null   object\n",
            " 3   Class      3321 non-null   int64 \n",
            "dtypes: int64(2), object(2)\n",
            "memory usage: 103.9+ KB\n"
          ],
          "name": "stdout"
        }
      ]
    },
    {
      "cell_type": "code",
      "metadata": {
        "colab": {
          "base_uri": "https://localhost:8080/"
        },
        "id": "lCxoTyfrhb-Q",
        "outputId": "18b48d64-d4da-4ef7-8c61-2638c42ad572"
      },
      "source": [
        "data_var.shape"
      ],
      "execution_count": 6,
      "outputs": [
        {
          "output_type": "execute_result",
          "data": {
            "text/plain": [
              "(3321, 4)"
            ]
          },
          "metadata": {
            "tags": []
          },
          "execution_count": 6
        }
      ]
    },
    {
      "cell_type": "code",
      "metadata": {
        "colab": {
          "base_uri": "https://localhost:8080/"
        },
        "id": "PCEn9zwUhfLt",
        "outputId": "aa2d3df4-15b9-44c9-b3aa-f6bd2508838d"
      },
      "source": [
        "data_text.info()"
      ],
      "execution_count": 7,
      "outputs": [
        {
          "output_type": "stream",
          "text": [
            "<class 'pandas.core.frame.DataFrame'>\n",
            "RangeIndex: 720 entries, 0 to 719\n",
            "Data columns (total 2 columns):\n",
            " #   Column  Non-Null Count  Dtype \n",
            "---  ------  --------------  ----- \n",
            " 0   ID      720 non-null    int64 \n",
            " 1   Text    720 non-null    object\n",
            "dtypes: int64(1), object(1)\n",
            "memory usage: 11.4+ KB\n"
          ],
          "name": "stdout"
        }
      ]
    },
    {
      "cell_type": "code",
      "metadata": {
        "colab": {
          "base_uri": "https://localhost:8080/"
        },
        "id": "FsoCy1bMhhBx",
        "outputId": "921c7a56-529d-4925-df37-52443fb2b368"
      },
      "source": [
        "data_text.shape"
      ],
      "execution_count": 8,
      "outputs": [
        {
          "output_type": "execute_result",
          "data": {
            "text/plain": [
              "(720, 2)"
            ]
          },
          "metadata": {
            "tags": []
          },
          "execution_count": 8
        }
      ]
    },
    {
      "cell_type": "markdown",
      "metadata": {
        "id": "vJHYeXhghk-z"
      },
      "source": [
        "To check the null value"
      ]
    },
    {
      "cell_type": "code",
      "metadata": {
        "colab": {
          "base_uri": "https://localhost:8080/"
        },
        "id": "-euoBt30hi1s",
        "outputId": "803f638f-9718-4c64-9102-811be291c569"
      },
      "source": [
        "data_var.isna().any()"
      ],
      "execution_count": 9,
      "outputs": [
        {
          "output_type": "execute_result",
          "data": {
            "text/plain": [
              "ID           False\n",
              "Gene         False\n",
              "Variation    False\n",
              "Class        False\n",
              "dtype: bool"
            ]
          },
          "metadata": {
            "tags": []
          },
          "execution_count": 9
        }
      ]
    },
    {
      "cell_type": "code",
      "metadata": {
        "colab": {
          "base_uri": "https://localhost:8080/"
        },
        "id": "-uKReX_QhnJy",
        "outputId": "c56cb6cc-4a8e-4cfe-8e1e-54252d5a3c20"
      },
      "source": [
        "data_text.isna().any()"
      ],
      "execution_count": 10,
      "outputs": [
        {
          "output_type": "execute_result",
          "data": {
            "text/plain": [
              "ID      False\n",
              "Text    False\n",
              "dtype: bool"
            ]
          },
          "metadata": {
            "tags": []
          },
          "execution_count": 10
        }
      ]
    },
    {
      "cell_type": "markdown",
      "metadata": {
        "id": "izrxiz4oKK7n"
      },
      "source": [
        "Descriptive Statistics"
      ]
    },
    {
      "cell_type": "code",
      "metadata": {
        "colab": {
          "base_uri": "https://localhost:8080/",
          "height": 297
        },
        "id": "_kWKl4RfhoiQ",
        "outputId": "4bfbcba4-df71-4839-a894-7487832f595d"
      },
      "source": [
        "data_var.describe()"
      ],
      "execution_count": 11,
      "outputs": [
        {
          "output_type": "execute_result",
          "data": {
            "text/html": [
              "<div>\n",
              "<style scoped>\n",
              "    .dataframe tbody tr th:only-of-type {\n",
              "        vertical-align: middle;\n",
              "    }\n",
              "\n",
              "    .dataframe tbody tr th {\n",
              "        vertical-align: top;\n",
              "    }\n",
              "\n",
              "    .dataframe thead th {\n",
              "        text-align: right;\n",
              "    }\n",
              "</style>\n",
              "<table border=\"1\" class=\"dataframe\">\n",
              "  <thead>\n",
              "    <tr style=\"text-align: right;\">\n",
              "      <th></th>\n",
              "      <th>ID</th>\n",
              "      <th>Class</th>\n",
              "    </tr>\n",
              "  </thead>\n",
              "  <tbody>\n",
              "    <tr>\n",
              "      <th>count</th>\n",
              "      <td>3321.000000</td>\n",
              "      <td>3321.000000</td>\n",
              "    </tr>\n",
              "    <tr>\n",
              "      <th>mean</th>\n",
              "      <td>1660.000000</td>\n",
              "      <td>4.365854</td>\n",
              "    </tr>\n",
              "    <tr>\n",
              "      <th>std</th>\n",
              "      <td>958.834449</td>\n",
              "      <td>2.309781</td>\n",
              "    </tr>\n",
              "    <tr>\n",
              "      <th>min</th>\n",
              "      <td>0.000000</td>\n",
              "      <td>1.000000</td>\n",
              "    </tr>\n",
              "    <tr>\n",
              "      <th>25%</th>\n",
              "      <td>830.000000</td>\n",
              "      <td>2.000000</td>\n",
              "    </tr>\n",
              "    <tr>\n",
              "      <th>50%</th>\n",
              "      <td>1660.000000</td>\n",
              "      <td>4.000000</td>\n",
              "    </tr>\n",
              "    <tr>\n",
              "      <th>75%</th>\n",
              "      <td>2490.000000</td>\n",
              "      <td>7.000000</td>\n",
              "    </tr>\n",
              "    <tr>\n",
              "      <th>max</th>\n",
              "      <td>3320.000000</td>\n",
              "      <td>9.000000</td>\n",
              "    </tr>\n",
              "  </tbody>\n",
              "</table>\n",
              "</div>"
            ],
            "text/plain": [
              "                ID        Class\n",
              "count  3321.000000  3321.000000\n",
              "mean   1660.000000     4.365854\n",
              "std     958.834449     2.309781\n",
              "min       0.000000     1.000000\n",
              "25%     830.000000     2.000000\n",
              "50%    1660.000000     4.000000\n",
              "75%    2490.000000     7.000000\n",
              "max    3320.000000     9.000000"
            ]
          },
          "metadata": {
            "tags": []
          },
          "execution_count": 11
        }
      ]
    },
    {
      "cell_type": "markdown",
      "metadata": {
        "id": "KOU35JtRhsjv"
      },
      "source": [
        "Visualization"
      ]
    },
    {
      "cell_type": "code",
      "metadata": {
        "colab": {
          "base_uri": "https://localhost:8080/",
          "height": 300
        },
        "id": "ET8voNWThqlW",
        "outputId": "69f2ab42-8726-48ab-d0bc-abcc9ed9ebd4"
      },
      "source": [
        "sns.countplot(x=\"Class\",data=data_var)"
      ],
      "execution_count": 12,
      "outputs": [
        {
          "output_type": "execute_result",
          "data": {
            "text/plain": [
              "<matplotlib.axes._subplots.AxesSubplot at 0x7f89f6eacef0>"
            ]
          },
          "metadata": {
            "tags": []
          },
          "execution_count": 12
        },
        {
          "output_type": "display_data",
          "data": {
            "image/png": "[encoded data removed]",
            "text/plain": [
              "<Figure size 432x288 with 1 Axes>"
            ]
          },
          "metadata": {
            "tags": [],
            "needs_background": "light"
          }
        }
      ]
    },
    {
      "cell_type": "code",
      "metadata": {
        "colab": {
          "base_uri": "https://localhost:8080/",
          "height": 592
        },
        "id": "G7O-FCWUhyC2",
        "outputId": "79877b88-f3e3-422e-8bb4-bc9056f09968"
      },
      "source": [
        "data_var['Class'].value_counts().plot(kind=\"pie\",explode=[0,0,0,0,0,0,0,0,0],figsize=(10,10),autopct=\"%1.2f%%\")"
      ],
      "execution_count": 13,
      "outputs": [
        {
          "output_type": "execute_result",
          "data": {
            "text/plain": [
              "<matplotlib.axes._subplots.AxesSubplot at 0x7f89f6638dd8>"
            ]
          },
          "metadata": {
            "tags": []
          },
          "execution_count": 13
        },
        {
          "output_type": "display_data",
          "data": {
            "image/png": "[encoded data removed]",
            "text/plain": [
              "<Figure size 720x720 with 1 Axes>"
            ]
          },
          "metadata": {
            "tags": []
          }
        }
      ]
    },
    {
      "cell_type": "markdown",
      "metadata": {
        "id": "gWklDpTth1uf"
      },
      "source": [
        "Text Preprocessing"
      ]
    },
    {
      "cell_type": "code",
      "metadata": {
        "colab": {
          "base_uri": "https://localhost:8080/"
        },
        "id": "eWfGZi70hzmW",
        "outputId": "4e2dcff5-0058-44b6-de63-52c4861dee41"
      },
      "source": [
        "import re\r\n",
        "import nltk\r\n",
        "from nltk.corpus import stopwords\r\n",
        "nltk.download('stopwords')"
      ],
      "execution_count": 14,
      "outputs": [
        {
          "output_type": "stream",
          "text": [
            "[nltk_data] Downloading package stopwords to /root/nltk_data...\n",
            "[nltk_data]   Unzipping corpora/stopwords.zip.\n"
          ],
          "name": "stdout"
        },
        {
          "output_type": "execute_result",
          "data": {
            "text/plain": [
              "True"
            ]
          },
          "metadata": {
            "tags": []
          },
          "execution_count": 14
        }
      ]
    },
    {
      "cell_type": "code",
      "metadata": {
        "colab": {
          "base_uri": "https://localhost:8080/",
          "height": 204
        },
        "id": "sS-x7Zv2h3q8",
        "outputId": "62cd508c-16fe-46dd-94c3-206c7fe3c91c"
      },
      "source": [
        "import string\r\n",
        "def columns(text):\r\n",
        "    review=re.sub('[^a-zA-Z0-9]',' ',str(text))\r\n",
        "    # replace multiple spaces with single space\r\n",
        "    review= re.sub('\\s+',' ', review)\r\n",
        "    review=review.lower()\r\n",
        "    review=review.split()\r\n",
        "    review=[word for word in review if word not in stopwords.words('english')]\r\n",
        "    return \" \".join(review)\r\n",
        "data_text['Text']=data_text['Text'].apply(columns)\r\n",
        "data_text.head(5)"
      ],
      "execution_count": 15,
      "outputs": [
        {
          "output_type": "execute_result",
          "data": {
            "text/html": [
              "<div>\n",
              "<style scoped>\n",
              "    .dataframe tbody tr th:only-of-type {\n",
              "        vertical-align: middle;\n",
              "    }\n",
              "\n",
              "    .dataframe tbody tr th {\n",
              "        vertical-align: top;\n",
              "    }\n",
              "\n",
              "    .dataframe thead th {\n",
              "        text-align: right;\n",
              "    }\n",
              "</style>\n",
              "<table border=\"1\" class=\"dataframe\">\n",
              "  <thead>\n",
              "    <tr style=\"text-align: right;\">\n",
              "      <th></th>\n",
              "      <th>ID</th>\n",
              "      <th>Text</th>\n",
              "    </tr>\n",
              "  </thead>\n",
              "  <tbody>\n",
              "    <tr>\n",
              "      <th>0</th>\n",
              "      <td>0</td>\n",
              "      <td>cyclin dependent kinases cdks regulate variety...</td>\n",
              "    </tr>\n",
              "    <tr>\n",
              "      <th>1</th>\n",
              "      <td>1</td>\n",
              "      <td>abstract background non small cell lung cancer...</td>\n",
              "    </tr>\n",
              "    <tr>\n",
              "      <th>2</th>\n",
              "      <td>2</td>\n",
              "      <td>abstract background non small cell lung cancer...</td>\n",
              "    </tr>\n",
              "    <tr>\n",
              "      <th>3</th>\n",
              "      <td>3</td>\n",
              "      <td>recent evidence demonstrated acquired uniparen...</td>\n",
              "    </tr>\n",
              "    <tr>\n",
              "      <th>4</th>\n",
              "      <td>4</td>\n",
              "      <td>oncogenic mutations monomeric casitas b lineag...</td>\n",
              "    </tr>\n",
              "  </tbody>\n",
              "</table>\n",
              "</div>"
            ],
            "text/plain": [
              "   ID                                               Text\n",
              "0   0  cyclin dependent kinases cdks regulate variety...\n",
              "1   1  abstract background non small cell lung cancer...\n",
              "2   2  abstract background non small cell lung cancer...\n",
              "3   3  recent evidence demonstrated acquired uniparen...\n",
              "4   4  oncogenic mutations monomeric casitas b lineag..."
            ]
          },
          "metadata": {
            "tags": []
          },
          "execution_count": 15
        }
      ]
    },
    {
      "cell_type": "markdown",
      "metadata": {
        "id": "pHf7rAlv872w"
      },
      "source": [
        "Merging "
      ]
    },
    {
      "cell_type": "code",
      "metadata": {
        "colab": {
          "base_uri": "https://localhost:8080/",
          "height": 204
        },
        "id": "CvfwWwdSh5F9",
        "outputId": "2396ddb8-d81d-400b-fa7e-d4c5dc0f1e8a"
      },
      "source": [
        "result=pd.merge(data_var,data_text,on='ID',how='left')\r\n",
        "result.head()"
      ],
      "execution_count": 16,
      "outputs": [
        {
          "output_type": "execute_result",
          "data": {
            "text/html": [
              "<div>\n",
              "<style scoped>\n",
              "    .dataframe tbody tr th:only-of-type {\n",
              "        vertical-align: middle;\n",
              "    }\n",
              "\n",
              "    .dataframe tbody tr th {\n",
              "        vertical-align: top;\n",
              "    }\n",
              "\n",
              "    .dataframe thead th {\n",
              "        text-align: right;\n",
              "    }\n",
              "</style>\n",
              "<table border=\"1\" class=\"dataframe\">\n",
              "  <thead>\n",
              "    <tr style=\"text-align: right;\">\n",
              "      <th></th>\n",
              "      <th>ID</th>\n",
              "      <th>Gene</th>\n",
              "      <th>Variation</th>\n",
              "      <th>Class</th>\n",
              "      <th>Text</th>\n",
              "    </tr>\n",
              "  </thead>\n",
              "  <tbody>\n",
              "    <tr>\n",
              "      <th>0</th>\n",
              "      <td>0</td>\n",
              "      <td>FAM58A</td>\n",
              "      <td>Truncating Mutations</td>\n",
              "      <td>1</td>\n",
              "      <td>cyclin dependent kinases cdks regulate variety...</td>\n",
              "    </tr>\n",
              "    <tr>\n",
              "      <th>1</th>\n",
              "      <td>1</td>\n",
              "      <td>CBL</td>\n",
              "      <td>W802*</td>\n",
              "      <td>2</td>\n",
              "      <td>abstract background non small cell lung cancer...</td>\n",
              "    </tr>\n",
              "    <tr>\n",
              "      <th>2</th>\n",
              "      <td>2</td>\n",
              "      <td>CBL</td>\n",
              "      <td>Q249E</td>\n",
              "      <td>2</td>\n",
              "      <td>abstract background non small cell lung cancer...</td>\n",
              "    </tr>\n",
              "    <tr>\n",
              "      <th>3</th>\n",
              "      <td>3</td>\n",
              "      <td>CBL</td>\n",
              "      <td>N454D</td>\n",
              "      <td>3</td>\n",
              "      <td>recent evidence demonstrated acquired uniparen...</td>\n",
              "    </tr>\n",
              "    <tr>\n",
              "      <th>4</th>\n",
              "      <td>4</td>\n",
              "      <td>CBL</td>\n",
              "      <td>L399V</td>\n",
              "      <td>4</td>\n",
              "      <td>oncogenic mutations monomeric casitas b lineag...</td>\n",
              "    </tr>\n",
              "  </tbody>\n",
              "</table>\n",
              "</div>"
            ],
            "text/plain": [
              "   ID    Gene  ... Class                                               Text\n",
              "0   0  FAM58A  ...     1  cyclin dependent kinases cdks regulate variety...\n",
              "1   1     CBL  ...     2  abstract background non small cell lung cancer...\n",
              "2   2     CBL  ...     2  abstract background non small cell lung cancer...\n",
              "3   3     CBL  ...     3  recent evidence demonstrated acquired uniparen...\n",
              "4   4     CBL  ...     4  oncogenic mutations monomeric casitas b lineag...\n",
              "\n",
              "[5 rows x 5 columns]"
            ]
          },
          "metadata": {
            "tags": []
          },
          "execution_count": 16
        }
      ]
    },
    {
      "cell_type": "code",
      "metadata": {
        "colab": {
          "base_uri": "https://localhost:8080/",
          "height": 204
        },
        "id": "18n1NYtnh7X9",
        "outputId": "e53c2cfe-65c6-432f-f6f4-58b70a4cc184"
      },
      "source": [
        "result[result.isna().any(axis=1)].head()"
      ],
      "execution_count": 17,
      "outputs": [
        {
          "output_type": "execute_result",
          "data": {
            "text/html": [
              "<div>\n",
              "<style scoped>\n",
              "    .dataframe tbody tr th:only-of-type {\n",
              "        vertical-align: middle;\n",
              "    }\n",
              "\n",
              "    .dataframe tbody tr th {\n",
              "        vertical-align: top;\n",
              "    }\n",
              "\n",
              "    .dataframe thead th {\n",
              "        text-align: right;\n",
              "    }\n",
              "</style>\n",
              "<table border=\"1\" class=\"dataframe\">\n",
              "  <thead>\n",
              "    <tr style=\"text-align: right;\">\n",
              "      <th></th>\n",
              "      <th>ID</th>\n",
              "      <th>Gene</th>\n",
              "      <th>Variation</th>\n",
              "      <th>Class</th>\n",
              "      <th>Text</th>\n",
              "    </tr>\n",
              "  </thead>\n",
              "  <tbody>\n",
              "    <tr>\n",
              "      <th>720</th>\n",
              "      <td>720</td>\n",
              "      <td>ERBB2</td>\n",
              "      <td>S310F</td>\n",
              "      <td>7</td>\n",
              "      <td>NaN</td>\n",
              "    </tr>\n",
              "    <tr>\n",
              "      <th>721</th>\n",
              "      <td>721</td>\n",
              "      <td>ERBB2</td>\n",
              "      <td>S335C</td>\n",
              "      <td>2</td>\n",
              "      <td>NaN</td>\n",
              "    </tr>\n",
              "    <tr>\n",
              "      <th>722</th>\n",
              "      <td>722</td>\n",
              "      <td>ERBB2</td>\n",
              "      <td>L785F</td>\n",
              "      <td>6</td>\n",
              "      <td>NaN</td>\n",
              "    </tr>\n",
              "    <tr>\n",
              "      <th>723</th>\n",
              "      <td>723</td>\n",
              "      <td>ERBB2</td>\n",
              "      <td>L915M</td>\n",
              "      <td>6</td>\n",
              "      <td>NaN</td>\n",
              "    </tr>\n",
              "    <tr>\n",
              "      <th>724</th>\n",
              "      <td>724</td>\n",
              "      <td>ERBB2</td>\n",
              "      <td>C334S</td>\n",
              "      <td>7</td>\n",
              "      <td>NaN</td>\n",
              "    </tr>\n",
              "  </tbody>\n",
              "</table>\n",
              "</div>"
            ],
            "text/plain": [
              "      ID   Gene Variation  Class Text\n",
              "720  720  ERBB2     S310F      7  NaN\n",
              "721  721  ERBB2     S335C      2  NaN\n",
              "722  722  ERBB2     L785F      6  NaN\n",
              "723  723  ERBB2     L915M      6  NaN\n",
              "724  724  ERBB2     C334S      7  NaN"
            ]
          },
          "metadata": {
            "tags": []
          },
          "execution_count": 17
        }
      ]
    },
    {
      "cell_type": "markdown",
      "metadata": {
        "id": "U6WmKWT39D4C"
      },
      "source": [
        "Fill the Text feature null values with Gene and variation features"
      ]
    },
    {
      "cell_type": "code",
      "metadata": {
        "id": "zVP8ZdjXh9AJ"
      },
      "source": [
        "result.loc[result['Text'].isna(),'Text']=result['Gene']+\" \"+result['Variation']"
      ],
      "execution_count": 18,
      "outputs": []
    },
    {
      "cell_type": "code",
      "metadata": {
        "colab": {
          "base_uri": "https://localhost:8080/",
          "height": 49
        },
        "id": "zouWU8Weh-Zq",
        "outputId": "52e44d45-f1a8-488d-a9dc-cb7fd37dfec8"
      },
      "source": [
        "result[result.isna().any(axis=1)].head()"
      ],
      "execution_count": 19,
      "outputs": [
        {
          "output_type": "execute_result",
          "data": {
            "text/html": [
              "<div>\n",
              "<style scoped>\n",
              "    .dataframe tbody tr th:only-of-type {\n",
              "        vertical-align: middle;\n",
              "    }\n",
              "\n",
              "    .dataframe tbody tr th {\n",
              "        vertical-align: top;\n",
              "    }\n",
              "\n",
              "    .dataframe thead th {\n",
              "        text-align: right;\n",
              "    }\n",
              "</style>\n",
              "<table border=\"1\" class=\"dataframe\">\n",
              "  <thead>\n",
              "    <tr style=\"text-align: right;\">\n",
              "      <th></th>\n",
              "      <th>ID</th>\n",
              "      <th>Gene</th>\n",
              "      <th>Variation</th>\n",
              "      <th>Class</th>\n",
              "      <th>Text</th>\n",
              "    </tr>\n",
              "  </thead>\n",
              "  <tbody>\n",
              "  </tbody>\n",
              "</table>\n",
              "</div>"
            ],
            "text/plain": [
              "Empty DataFrame\n",
              "Columns: [ID, Gene, Variation, Class, Text]\n",
              "Index: []"
            ]
          },
          "metadata": {
            "tags": []
          },
          "execution_count": 19
        }
      ]
    },
    {
      "cell_type": "code",
      "metadata": {
        "colab": {
          "base_uri": "https://localhost:8080/",
          "height": 80
        },
        "id": "IIbKMYkyh_6I",
        "outputId": "65eedc99-5ba6-4b66-b8cc-193231c14efd"
      },
      "source": [
        "result[result['ID']==1203]"
      ],
      "execution_count": 20,
      "outputs": [
        {
          "output_type": "execute_result",
          "data": {
            "text/html": [
              "<div>\n",
              "<style scoped>\n",
              "    .dataframe tbody tr th:only-of-type {\n",
              "        vertical-align: middle;\n",
              "    }\n",
              "\n",
              "    .dataframe tbody tr th {\n",
              "        vertical-align: top;\n",
              "    }\n",
              "\n",
              "    .dataframe thead th {\n",
              "        text-align: right;\n",
              "    }\n",
              "</style>\n",
              "<table border=\"1\" class=\"dataframe\">\n",
              "  <thead>\n",
              "    <tr style=\"text-align: right;\">\n",
              "      <th></th>\n",
              "      <th>ID</th>\n",
              "      <th>Gene</th>\n",
              "      <th>Variation</th>\n",
              "      <th>Class</th>\n",
              "      <th>Text</th>\n",
              "    </tr>\n",
              "  </thead>\n",
              "  <tbody>\n",
              "    <tr>\n",
              "      <th>1203</th>\n",
              "      <td>1203</td>\n",
              "      <td>PIK3CA</td>\n",
              "      <td>A1020V</td>\n",
              "      <td>5</td>\n",
              "      <td>PIK3CA A1020V</td>\n",
              "    </tr>\n",
              "  </tbody>\n",
              "</table>\n",
              "</div>"
            ],
            "text/plain": [
              "        ID    Gene Variation  Class           Text\n",
              "1203  1203  PIK3CA    A1020V      5  PIK3CA A1020V"
            ]
          },
          "metadata": {
            "tags": []
          },
          "execution_count": 20
        }
      ]
    },
    {
      "cell_type": "markdown",
      "metadata": {
        "id": "za3LB9KoiElc"
      },
      "source": [
        "Replacing the underscore insead of Double Space"
      ]
    },
    {
      "cell_type": "code",
      "metadata": {
        "id": "cgm-KUbwiBnK"
      },
      "source": [
        "result['Gene']=result['Gene'].str.replace('\\s+','_')\r\n",
        "result['Variation']=result['Variation'].str.replace('\\s+','_')"
      ],
      "execution_count": 21,
      "outputs": []
    },
    {
      "cell_type": "markdown",
      "metadata": {
        "id": "Fl-Dd6iYiJN7"
      },
      "source": [
        "Splitting the data into train,test and cv"
      ]
    },
    {
      "cell_type": "code",
      "metadata": {
        "id": "zi-3CVe8iHDm"
      },
      "source": [
        "y=result['Class'].values"
      ],
      "execution_count": 22,
      "outputs": []
    },
    {
      "cell_type": "code",
      "metadata": {
        "id": "m-Aq0oJgiLnm"
      },
      "source": [
        "from sklearn.model_selection import train_test_split\r\n",
        "#Train and Test 80:20\r\n",
        "X_train,X_test,y_train,y_test=train_test_split(result,y,stratify=y,test_size=0.2)\r\n",
        "#Training and cross validation\r\n",
        "X_train_cv,X_test_cv,y_train_cv,y_cv=train_test_split(X_train,y_train,stratify=y_train,test_size=0.2)"
      ],
      "execution_count": 23,
      "outputs": []
    },
    {
      "cell_type": "code",
      "metadata": {
        "colab": {
          "base_uri": "https://localhost:8080/"
        },
        "id": "8ta9mM0ZW5KF",
        "outputId": "7498b256-5534-4bb1-df5a-bb2c85ae9927"
      },
      "source": [
        "y_train_cv.shape"
      ],
      "execution_count": 24,
      "outputs": [
        {
          "output_type": "execute_result",
          "data": {
            "text/plain": [
              "(2124,)"
            ]
          },
          "metadata": {
            "tags": []
          },
          "execution_count": 24
        }
      ]
    },
    {
      "cell_type": "code",
      "metadata": {
        "colab": {
          "base_uri": "https://localhost:8080/"
        },
        "id": "-o6tIOfoisom",
        "outputId": "2597c99d-018b-4704-801f-a96ada089fe1"
      },
      "source": [
        "print('Number of data points in train data:', X_train.shape[0])\r\n",
        "print('Number of data points in cv_train data:', X_train_cv.shape[0])\r\n",
        "print('Number of data points in test data:', X_test.shape[0])\r\n",
        "print('Number of data points in cross validation data:', X_test_cv.shape[0])"
      ],
      "execution_count": 25,
      "outputs": [
        {
          "output_type": "stream",
          "text": [
            "Number of data points in train data: 2656\n",
            "Number of data points in cv_train data: 2124\n",
            "Number of data points in test data: 665\n",
            "Number of data points in cross validation data: 532\n"
          ],
          "name": "stdout"
        }
      ]
    },
    {
      "cell_type": "code",
      "metadata": {
        "id": "gZHpgZgSNGhR"
      },
      "source": [
        "sys.setrecursionlimit(15000)"
      ],
      "execution_count": 26,
      "outputs": []
    },
    {
      "cell_type": "code",
      "metadata": {
        "colab": {
          "base_uri": "https://localhost:8080/"
        },
        "id": "u_OmE_iWNBeX",
        "outputId": "4ea4d7ed-dc8a-4b68-e368-b5b9f4206f5e"
      },
      "source": [
        "print(sys.getrecursionlimit())"
      ],
      "execution_count": 27,
      "outputs": [
        {
          "output_type": "stream",
          "text": [
            "15000\n"
          ],
          "name": "stdout"
        }
      ]
    },
    {
      "cell_type": "code",
      "metadata": {
        "id": "HEJmxGJ_ixYR"
      },
      "source": [
        "def plot_confusion_matrix(test_y, predict_y):\r\n",
        "    C = confusion_matrix(test_y, predict_y)\r\n",
        "    A =(((C.T)/(C.sum(axis=1))).T)\r\n",
        "    B =(C/C.sum(axis=0))\r\n",
        "    labels = [1,2,3,4,5,6,7,8,9]\r\n",
        "    print(\"-\"*20, \"Confusion matrix\", \"-\"*20)\r\n",
        "    plt.figure(figsize=(20,7))\r\n",
        "    sns.heatmap(C, annot=True, cmap=\"YlGnBu\", fmt=\".3f\", xticklabels=labels, yticklabels=labels)\r\n",
        "    plt.xlabel('Predicted Class')\r\n",
        "    plt.ylabel('Original Class')\r\n",
        "    plt.show()\r\n",
        "\r\n",
        "    print(\"-\"*20, \"Precision matrix (Columm Sum=1)\", \"-\"*20)\r\n",
        "    plt.figure(figsize=(20,7))\r\n",
        "    sns.heatmap(B, annot=True, cmap=\"YlGnBu\", fmt=\".3f\", xticklabels=labels, yticklabels=labels)\r\n",
        "    plt.xlabel('Predicted Class')\r\n",
        "    plt.ylabel('Original Class')\r\n",
        "    plt.show()\r\n",
        "    \r\n",
        "    # representing B in heatmap format\r\n",
        "    print(\"-\"*20, \"Recall matrix (Row sum=1)\", \"-\"*20)\r\n",
        "    plt.figure(figsize=(20,7))\r\n",
        "    sns.heatmap(A, annot=True, cmap=\"YlGnBu\", fmt=\".3f\", xticklabels=labels, yticklabels=labels)\r\n",
        "    plt.xlabel('Predicted Class')\r\n",
        "    plt.ylabel('Original Class')\r\n",
        "    plt.show()"
      ],
      "execution_count": 28,
      "outputs": []
    },
    {
      "cell_type": "code",
      "metadata": {
        "colab": {
          "base_uri": "https://localhost:8080/",
          "height": 1000
        },
        "id": "3fxmZbl9jKWA",
        "outputId": "6d4ae62f-ee0d-4c97-8a14-7a1c2f3ba6f2"
      },
      "source": [
        "from sklearn.metrics import confusion_matrix\r\n",
        "test_datalen=X_test.shape[0]\r\n",
        "cv_datalen=X_test_cv.shape[0]\r\n",
        "\r\n",
        "cv_predicted_y = np.zeros((cv_datalen,9))\r\n",
        "for i in range(cv_datalen):\r\n",
        "    rand_probs = np.random.rand(1,9)\r\n",
        "    cv_predicted_y[i] = ((rand_probs/sum(sum(rand_probs)))[0])\r\n",
        "print(\"Log loss on Cross Validation Data using Random Model\",log_loss(y_cv,cv_predicted_y, eps=1e-15))\r\n",
        "\r\n",
        "\r\n",
        "# Test-Set error.\r\n",
        "#we create a output array that has exactly same as the test data\r\n",
        "test_predicted_y = np.zeros((test_datalen,9))\r\n",
        "for i in range(test_datalen):\r\n",
        "    rand_probs = np.random.rand(1,9)\r\n",
        "    test_predicted_y[i] = ((rand_probs/sum(sum(rand_probs)))[0])\r\n",
        "print(\"Log loss on Test Data using Random Model\",log_loss(y_test,test_predicted_y, eps=1e-15))\r\n",
        "\r\n",
        "predicted_y =np.argmax(test_predicted_y, axis=1)\r\n",
        "plot_confusion_matrix(y_test, predicted_y+1)"
      ],
      "execution_count": 29,
      "outputs": [
        {
          "output_type": "stream",
          "text": [
            "Log loss on Cross Validation Data using Random Model 2.4235692153259416\n",
            "Log loss on Test Data using Random Model 2.446896946005161\n",
            "-------------------- Confusion matrix --------------------\n"
          ],
          "name": "stdout"
        },
        {
          "output_type": "display_data",
          "data": {
            "image/png": "[encoded data removed]",
            "text/plain": [
              "<Figure size 1440x504 with 2 Axes>"
            ]
          },
          "metadata": {
            "tags": [],
            "needs_background": "light"
          }
        },
        {
          "output_type": "stream",
          "text": [
            "-------------------- Precision matrix (Columm Sum=1) --------------------\n"
          ],
          "name": "stdout"
        },
        {
          "output_type": "display_data",
          "data": {
            "image/png": "[encoded data removed]",
            "text/plain": [
              "<Figure size 1440x504 with 2 Axes>"
            ]
          },
          "metadata": {
            "tags": [],
            "needs_background": "light"
          }
        },
        {
          "output_type": "stream",
          "text": [
            "-------------------- Recall matrix (Row sum=1) --------------------\n"
          ],
          "name": "stdout"
        },
        {
          "output_type": "display_data",
          "data": {
            "image/png": "[encoded data removed]",
            "text/plain": [
              "<Figure size 1440x504 with 2 Axes>"
            ]
          },
          "metadata": {
            "tags": [],
            "needs_background": "light"
          }
        }
      ]
    },
    {
      "cell_type": "markdown",
      "metadata": {
        "id": "pa-RqFnqjrKs"
      },
      "source": [
        "Univariate Analysis -Gene"
      ]
    },
    {
      "cell_type": "code",
      "metadata": {
        "colab": {
          "base_uri": "https://localhost:8080/"
        },
        "id": "ITxJo655jebG",
        "outputId": "6cda8689-518f-47d5-b2c8-6ee6627e5a0b"
      },
      "source": [
        "unique_gene=X_train_cv['Gene'].value_counts()\r\n",
        "print(unique_gene.head(10))"
      ],
      "execution_count": 30,
      "outputs": [
        {
          "output_type": "stream",
          "text": [
            "BRCA1     166\n",
            "TP53      108\n",
            "EGFR       87\n",
            "BRCA2      84\n",
            "PTEN       82\n",
            "KIT        59\n",
            "BRAF       58\n",
            "ERBB2      49\n",
            "PDGFRA     39\n",
            "CDKN2A     38\n",
            "Name: Gene, dtype: int64\n"
          ],
          "name": "stdout"
        }
      ]
    },
    {
      "cell_type": "code",
      "metadata": {
        "colab": {
          "base_uri": "https://localhost:8080/",
          "height": 279
        },
        "id": "EtVUKxJTRGIQ",
        "outputId": "0e6553bc-bec7-46eb-b4f0-c6143b75af57"
      },
      "source": [
        "s=sum(unique_gene.values)\r\n",
        "h=unique_gene.values/s\r\n",
        "plt.plot(h,label=\"Histogram of Genes\")\r\n",
        "plt.xlabel('Index of a Gene')\r\n",
        "plt.ylabel('Number of Occurances')\r\n",
        "plt.legend()\r\n",
        "plt.grid()\r\n",
        "plt.show()"
      ],
      "execution_count": 31,
      "outputs": [
        {
          "output_type": "display_data",
          "data": {
            "image/png": "[encoded data removed]",
            "text/plain": [
              "<Figure size 432x288 with 1 Axes>"
            ]
          },
          "metadata": {
            "tags": [],
            "needs_background": "light"
          }
        }
      ]
    },
    {
      "cell_type": "code",
      "metadata": {
        "colab": {
          "base_uri": "https://localhost:8080/",
          "height": 928
        },
        "id": "tVQaV0MsxKbu",
        "outputId": "faba6845-a127-476f-d7b4-9000efc5258b"
      },
      "source": [
        "c = np.cumsum(h)\r\n",
        "print(c)\r\n",
        "plt.plot(c,label='Cumulative distribution of Variations')\r\n",
        "plt.grid()\r\n",
        "plt.legend()\r\n",
        "plt.show()"
      ],
      "execution_count": 32,
      "outputs": [
        {
          "output_type": "stream",
          "text": [
            "[0.07815443 0.12900188 0.16996234 0.20951036 0.24811676 0.27589454\n",
            " 0.30320151 0.32627119 0.34463277 0.36252354 0.37900188 0.39548023\n",
            " 0.41101695 0.42655367 0.4420904  0.45621469 0.47033898 0.48352166\n",
            " 0.4952919  0.50706215 0.51836158 0.52919021 0.53954802 0.54990584\n",
            " 0.55932203 0.56873823 0.57768362 0.58615819 0.59463277 0.60263653\n",
            " 0.61016949 0.61770245 0.6247646  0.63182674 0.63888889 0.64595104\n",
            " 0.65254237 0.65913371 0.66572505 0.67231638 0.67843691 0.68455744\n",
            " 0.69067797 0.69632768 0.7019774  0.70762712 0.71327684 0.71892655\n",
            " 0.72457627 0.72975518 0.73446328 0.73917137 0.74387947 0.74858757\n",
            " 0.75329567 0.75753296 0.76177024 0.76600753 0.77024482 0.7740113\n",
            " 0.77777778 0.78154426 0.78531073 0.78907721 0.79284369 0.79613936\n",
            " 0.79943503 0.8027307  0.80602637 0.80932203 0.8126177  0.81591337\n",
            " 0.81920904 0.82250471 0.82580038 0.82909605 0.83239171 0.83521657\n",
            " 0.83804143 0.84086629 0.84369115 0.84651601 0.84934087 0.85169492\n",
            " 0.85404896 0.85640301 0.85875706 0.86111111 0.86346516 0.86581921\n",
            " 0.86817326 0.87052731 0.87288136 0.8752354  0.87758945 0.8799435\n",
            " 0.88229755 0.8846516  0.88700565 0.8893597  0.89171375 0.8940678\n",
            " 0.89595104 0.89783427 0.89971751 0.90160075 0.90348399 0.90536723\n",
            " 0.90725047 0.90913371 0.91101695 0.91290019 0.91478343 0.91666667\n",
            " 0.91854991 0.92043315 0.92231638 0.92372881 0.92514124 0.92655367\n",
            " 0.9279661  0.92937853 0.93079096 0.93220339 0.93361582 0.93455744\n",
            " 0.93549906 0.93644068 0.9373823  0.93832392 0.93926554 0.94020716\n",
            " 0.94114878 0.9420904  0.94303202 0.94397363 0.94491525 0.94585687\n",
            " 0.94679849 0.94774011 0.94868173 0.94962335 0.95056497 0.95150659\n",
            " 0.95244821 0.95338983 0.95433145 0.95527307 0.95621469 0.95715631\n",
            " 0.95809793 0.95903955 0.95998117 0.96092279 0.96186441 0.96280603\n",
            " 0.96374765 0.96468927 0.96563089 0.9665725  0.96751412 0.96798493\n",
            " 0.96845574 0.96892655 0.96939736 0.96986817 0.97033898 0.97080979\n",
            " 0.9712806  0.97175141 0.97222222 0.97269303 0.97316384 0.97363465\n",
            " 0.97410546 0.97457627 0.97504708 0.97551789 0.9759887  0.97645951\n",
            " 0.97693032 0.97740113 0.97787194 0.97834275 0.97881356 0.97928437\n",
            " 0.97975518 0.98022599 0.9806968  0.98116761 0.98163842 0.98210923\n",
            " 0.98258004 0.98305085 0.98352166 0.98399247 0.98446328 0.98493409\n",
            " 0.9854049  0.98587571 0.98634652 0.98681733 0.98728814 0.98775895\n",
            " 0.98822976 0.98870056 0.98917137 0.98964218 0.99011299 0.9905838\n",
            " 0.99105461 0.99152542 0.99199623 0.99246704 0.99293785 0.99340866\n",
            " 0.99387947 0.99435028 0.99482109 0.9952919  0.99576271 0.99623352\n",
            " 0.99670433 0.99717514 0.99764595 0.99811676 0.99858757 0.99905838\n",
            " 0.99952919 1.        ]\n"
          ],
          "name": "stdout"
        },
        {
          "output_type": "display_data",
          "data": {
            "image/png": "[encoded data removed]",
            "text/plain": [
              "<Figure size 432x288 with 1 Axes>"
            ]
          },
          "metadata": {
            "tags": [],
            "needs_background": "light"
          }
        }
      ]
    },
    {
      "cell_type": "markdown",
      "metadata": {
        "id": "uGV5AqoOjwCI"
      },
      "source": [
        "*OneHotCoding*-Gene \r\n"
      ]
    },
    {
      "cell_type": "code",
      "metadata": {
        "id": "PZ3_stZijwnG"
      },
      "source": [
        "from sklearn.feature_extraction.text import CountVectorizer\r\n",
        "gene_vectorizer = CountVectorizer()\r\n",
        "train_gene_onehot = gene_vectorizer.fit_transform(X_train_cv['Gene'])\r\n",
        "test_gene_onehot = gene_vectorizer.transform(X_test['Gene'])\r\n",
        "cv_gene_onehot = gene_vectorizer.transform(X_test_cv['Gene'])\r\n"
      ],
      "execution_count": 33,
      "outputs": []
    },
    {
      "cell_type": "code",
      "metadata": {
        "colab": {
          "base_uri": "https://localhost:8080/"
        },
        "id": "wm_fYSdxXm_K",
        "outputId": "c04fea26-60d0-4d76-e073-5fd23ffe931f"
      },
      "source": [
        "X_train_cv['Gene'].head()"
      ],
      "execution_count": 34,
      "outputs": [
        {
          "output_type": "execute_result",
          "data": {
            "text/plain": [
              "2136     KEAP1\n",
              "195       EGFR\n",
              "2050      SOS1\n",
              "3096    NOTCH2\n",
              "3019       KIT\n",
              "Name: Gene, dtype: object"
            ]
          },
          "metadata": {
            "tags": []
          },
          "execution_count": 34
        }
      ]
    },
    {
      "cell_type": "code",
      "metadata": {
        "colab": {
          "base_uri": "https://localhost:8080/"
        },
        "id": "e30JKaN1YCE_",
        "outputId": "b8f9a961-14e7-4350-b14f-e2e6acc10866"
      },
      "source": [
        "gene_vectorizer.get_feature_names()"
      ],
      "execution_count": 35,
      "outputs": [
        {
          "output_type": "execute_result",
          "data": {
            "text/plain": [
              "['abl1',\n",
              " 'acvr1',\n",
              " 'ago2',\n",
              " 'akt1',\n",
              " 'akt2',\n",
              " 'akt3',\n",
              " 'alk',\n",
              " 'apc',\n",
              " 'ar',\n",
              " 'araf',\n",
              " 'arid1a',\n",
              " 'arid1b',\n",
              " 'arid2',\n",
              " 'arid5b',\n",
              " 'asxl2',\n",
              " 'atm',\n",
              " 'atrx',\n",
              " 'aurka',\n",
              " 'aurkb',\n",
              " 'axin1',\n",
              " 'b2m',\n",
              " 'bap1',\n",
              " 'bard1',\n",
              " 'bcl10',\n",
              " 'bcl2',\n",
              " 'bcl2l11',\n",
              " 'bcor',\n",
              " 'braf',\n",
              " 'brca1',\n",
              " 'brca2',\n",
              " 'brd4',\n",
              " 'brip1',\n",
              " 'btk',\n",
              " 'card11',\n",
              " 'carm1',\n",
              " 'casp8',\n",
              " 'cbl',\n",
              " 'ccnd1',\n",
              " 'ccnd2',\n",
              " 'ccnd3',\n",
              " 'ccne1',\n",
              " 'cdh1',\n",
              " 'cdk12',\n",
              " 'cdk4',\n",
              " 'cdk8',\n",
              " 'cdkn1a',\n",
              " 'cdkn1b',\n",
              " 'cdkn2a',\n",
              " 'cdkn2b',\n",
              " 'chek2',\n",
              " 'cic',\n",
              " 'crebbp',\n",
              " 'ctcf',\n",
              " 'ctla4',\n",
              " 'ctnnb1',\n",
              " 'ddr2',\n",
              " 'dicer1',\n",
              " 'dnmt3a',\n",
              " 'dnmt3b',\n",
              " 'dusp4',\n",
              " 'egfr',\n",
              " 'eif1ax',\n",
              " 'elf3',\n",
              " 'ep300',\n",
              " 'epas1',\n",
              " 'erbb2',\n",
              " 'erbb3',\n",
              " 'erbb4',\n",
              " 'ercc2',\n",
              " 'ercc3',\n",
              " 'ercc4',\n",
              " 'erg',\n",
              " 'esr1',\n",
              " 'etv1',\n",
              " 'etv6',\n",
              " 'ewsr1',\n",
              " 'ezh2',\n",
              " 'fanca',\n",
              " 'fat1',\n",
              " 'fbxw7',\n",
              " 'fgf19',\n",
              " 'fgf3',\n",
              " 'fgf4',\n",
              " 'fgfr1',\n",
              " 'fgfr2',\n",
              " 'fgfr3',\n",
              " 'fgfr4',\n",
              " 'flt1',\n",
              " 'flt3',\n",
              " 'foxa1',\n",
              " 'foxl2',\n",
              " 'foxp1',\n",
              " 'fubp1',\n",
              " 'gata3',\n",
              " 'gli1',\n",
              " 'gna11',\n",
              " 'gnas',\n",
              " 'hist1h1c',\n",
              " 'hla',\n",
              " 'hnf1a',\n",
              " 'hras',\n",
              " 'idh1',\n",
              " 'idh2',\n",
              " 'igf1r',\n",
              " 'ikbke',\n",
              " 'jak1',\n",
              " 'jak2',\n",
              " 'jun',\n",
              " 'kdm5c',\n",
              " 'kdm6a',\n",
              " 'kdr',\n",
              " 'keap1',\n",
              " 'kit',\n",
              " 'klf4',\n",
              " 'kmt2a',\n",
              " 'kmt2b',\n",
              " 'kmt2c',\n",
              " 'kmt2d',\n",
              " 'knstrn',\n",
              " 'kras',\n",
              " 'lats1',\n",
              " 'lats2',\n",
              " 'map2k1',\n",
              " 'map2k2',\n",
              " 'map2k4',\n",
              " 'map3k1',\n",
              " 'mapk1',\n",
              " 'med12',\n",
              " 'mef2b',\n",
              " 'men1',\n",
              " 'met',\n",
              " 'mga',\n",
              " 'mlh1',\n",
              " 'mpl',\n",
              " 'msh2',\n",
              " 'msh6',\n",
              " 'mtor',\n",
              " 'myc',\n",
              " 'mycn',\n",
              " 'myd88',\n",
              " 'myod1',\n",
              " 'ncor1',\n",
              " 'nf1',\n",
              " 'nf2',\n",
              " 'nfe2l2',\n",
              " 'nfkbia',\n",
              " 'nkx2',\n",
              " 'notch1',\n",
              " 'notch2',\n",
              " 'nras',\n",
              " 'nsd1',\n",
              " 'ntrk1',\n",
              " 'ntrk2',\n",
              " 'ntrk3',\n",
              " 'pak1',\n",
              " 'pax8',\n",
              " 'pbrm1',\n",
              " 'pdgfra',\n",
              " 'pdgfrb',\n",
              " 'pik3ca',\n",
              " 'pik3cb',\n",
              " 'pik3cd',\n",
              " 'pik3r1',\n",
              " 'pik3r2',\n",
              " 'pik3r3',\n",
              " 'pim1',\n",
              " 'pms1',\n",
              " 'pms2',\n",
              " 'pole',\n",
              " 'ppm1d',\n",
              " 'ppp2r1a',\n",
              " 'prdm1',\n",
              " 'ptch1',\n",
              " 'pten',\n",
              " 'ptpn11',\n",
              " 'ptprd',\n",
              " 'ptprt',\n",
              " 'rab35',\n",
              " 'rac1',\n",
              " 'rad21',\n",
              " 'rad50',\n",
              " 'rad51b',\n",
              " 'rad51c',\n",
              " 'rad54l',\n",
              " 'raf1',\n",
              " 'rara',\n",
              " 'rasa1',\n",
              " 'rb1',\n",
              " 'rbm10',\n",
              " 'ret',\n",
              " 'rheb',\n",
              " 'rhoa',\n",
              " 'rit1',\n",
              " 'rnf43',\n",
              " 'ros1',\n",
              " 'rras2',\n",
              " 'runx1',\n",
              " 'rxra',\n",
              " 'rybp',\n",
              " 'setd2',\n",
              " 'sf3b1',\n",
              " 'smad2',\n",
              " 'smad3',\n",
              " 'smad4',\n",
              " 'smarca4',\n",
              " 'smarcb1',\n",
              " 'smo',\n",
              " 'sos1',\n",
              " 'sox9',\n",
              " 'spop',\n",
              " 'src',\n",
              " 'stag2',\n",
              " 'stat3',\n",
              " 'stk11',\n",
              " 'tert',\n",
              " 'tet1',\n",
              " 'tet2',\n",
              " 'tgfbr1',\n",
              " 'tgfbr2',\n",
              " 'tmprss2',\n",
              " 'tp53',\n",
              " 'tp53bp1',\n",
              " 'tsc1',\n",
              " 'tsc2',\n",
              " 'u2af1',\n",
              " 'vhl',\n",
              " 'whsc1l1',\n",
              " 'xpo1',\n",
              " 'xrcc2',\n",
              " 'yap1']"
            ]
          },
          "metadata": {
            "tags": []
          },
          "execution_count": 35
        }
      ]
    },
    {
      "cell_type": "code",
      "metadata": {
        "colab": {
          "base_uri": "https://localhost:8080/"
        },
        "id": "jJNwialJjzs4",
        "outputId": "b548df24-9c60-4c11-a573-4d8408d31656"
      },
      "source": [
        "train_gene_onehot.shape"
      ],
      "execution_count": 36,
      "outputs": [
        {
          "output_type": "execute_result",
          "data": {
            "text/plain": [
              "(2124, 230)"
            ]
          },
          "metadata": {
            "tags": []
          },
          "execution_count": 36
        }
      ]
    },
    {
      "cell_type": "code",
      "metadata": {
        "colab": {
          "base_uri": "https://localhost:8080/",
          "height": 448
        },
        "id": "Q_UaUYeNkvcR",
        "outputId": "513cb13f-6e0d-4f38-aa91-0bde4f86b6c6"
      },
      "source": [
        "from sklearn.calibration import CalibratedClassifierCV\r\n",
        "from sklearn.linear_model import SGDClassifier\r\n",
        "\r\n",
        "alpha=[10**x for x in range(-5,1) ]\r\n",
        "\r\n",
        "cv_log_error_array=[]\r\n",
        "for i in alpha:\r\n",
        "  clf=SGDClassifier(alpha=i,penalty='l2',loss='log',random_state=42)\r\n",
        "  clf.fit(train_gene_onehot,y_train_cv)\r\n",
        "  \r\n",
        "  sig_clf=CalibratedClassifierCV(clf,method=\"sigmoid\")\r\n",
        "  sig_clf.fit(train_gene_onehot,y_train_cv)\r\n",
        "  predict_y=sig_clf.predict_proba(cv_gene_onehot)\r\n",
        "  \r\n",
        "  cv_log_error_array.append(log_loss(y_cv,predict_y,labels=clf.classes_,eps=1e-15))\r\n",
        "  print(\"For value of alpha=\",i,\"The log loss is:\",log_loss(y_cv,predict_y,labels=clf.classes_,eps=1e-15))\r\n",
        "\r\n",
        "fig,ax=plt.subplots()\r\n",
        "ax.plot(alpha,cv_log_error_array,c='g')\r\n",
        "for i,txt in enumerate(np.round(cv_log_error_array,3)):\r\n",
        "  ax.annotate((alpha[i],str(txt)),(alpha[i],cv_log_error_array[i]))\r\n",
        "plt.grid()\r\n",
        "plt.title(\"Cross Validation Error for each alpha\")\r\n",
        "plt.xlabel(\"Alpha i's\")\r\n",
        "plt.ylabel(\"Error measure\")\r\n",
        "plt.show()\r\n",
        "\r\n",
        "\r\n",
        "best_alpha=np.argmin(cv_log_error_array)\r\n",
        "clf=SGDClassifier(alpha=alpha[best_alpha],penalty='l2',loss='log',random_state=42)\r\n",
        "clf.fit(train_gene_onehot,y_train_cv)\r\n",
        "\r\n",
        "sig_clf=CalibratedClassifierCV(clf,method=\"sigmoid\")\r\n",
        "sig_clf.fit(train_gene_onehot,y_train_cv)\r\n",
        "\r\n",
        "predict_y=sig_clf.predict_proba(train_gene_onehot)\r\n",
        "print(\"best alpha=\",alpha[best_alpha],\"The train log loss is:\",log_loss(y_train_cv,predict_y,labels=clf.classes_,eps=1e-15))\r\n",
        "\r\n",
        "predict_y=sig_clf.predict_proba(cv_gene_onehot)\r\n",
        "print(\"Best alpha=\",alpha[best_alpha],\"The cross validation log loss:\",log_loss(y_cv,predict_y,labels=clf.classes_,eps=1e-15))\r\n",
        "\r\n",
        "predict_y=sig_clf.predict_proba(test_gene_onehot)\r\n",
        "print(\"Best alpha=\",alpha[best_alpha],'The Test log loss :',log_loss(y_test,predict_y,labels=clf.classes_,eps=1e-15))"
      ],
      "execution_count": 37,
      "outputs": [
        {
          "output_type": "stream",
          "text": [
            "For value of alpha= 1e-05 The log loss is: 1.2350157369506398\n",
            "For value of alpha= 0.0001 The log loss is: 1.2175073550189746\n",
            "For value of alpha= 0.001 The log loss is: 1.262516959311059\n",
            "For value of alpha= 0.01 The log loss is: 1.3840732608480257\n",
            "For value of alpha= 0.1 The log loss is: 1.4785901579300746\n",
            "For value of alpha= 1 The log loss is: 1.503017402838529\n"
          ],
          "name": "stdout"
        },
        {
          "output_type": "display_data",
          "data": {
            "image/png": "[encoded data removed]",
            "text/plain": [
              "<Figure size 432x288 with 1 Axes>"
            ]
          },
          "metadata": {
            "tags": [],
            "needs_background": "light"
          }
        },
        {
          "output_type": "stream",
          "text": [
            "best alpha= 0.0001 The train log loss is: 0.9880774665600386\n",
            "Best alpha= 0.0001 The cross validation log loss: 1.2175073550189746\n",
            "Best alpha= 0.0001 The Test log loss : 1.1714033889988305\n"
          ],
          "name": "stdout"
        }
      ]
    },
    {
      "cell_type": "markdown",
      "metadata": {
        "id": "L15OeaZYeANr"
      },
      "source": [
        "Checking the Gene feature stable across all the data sets (Test, Train, Cross validation )"
      ]
    },
    {
      "cell_type": "code",
      "metadata": {
        "colab": {
          "base_uri": "https://localhost:8080/"
        },
        "id": "znTJY6Sud_8x",
        "outputId": "6c3357af-5733-43a6-db03-012969c2644b"
      },
      "source": [
        "print(\"data points in Test and CV datasets are covered by the\", unique_gene.shape[0],\"genes in train data\")\r\n",
        "\r\n",
        "test_coverage=X_test[X_test['Gene'].isin(list(set(X_train_cv['Gene'])))].shape[0]\r\n",
        "cv_coverage=X_test_cv[X_test_cv['Gene'].isin(list(set(X_train_cv['Gene'])))].shape[0]\r\n",
        "\r\n",
        "print('In test data',test_coverage,'out of',X_test.shape[0],\":\",(test_coverage/X_test.shape[0])*100)\r\n",
        "print('In cv data',cv_coverage,'out of',X_test_cv.shape[0],\":\",(cv_coverage/X_test_cv.shape[0])*100)"
      ],
      "execution_count": 38,
      "outputs": [
        {
          "output_type": "stream",
          "text": [
            "data points in Test and CV datasets are covered by the 230 genes in train data\n",
            "In test data 643 out of 665 : 96.69172932330827\n",
            "In cv data 511 out of 532 : 96.05263157894737\n"
          ],
          "name": "stdout"
        }
      ]
    },
    {
      "cell_type": "markdown",
      "metadata": {
        "id": "JNi5HxONnHLQ"
      },
      "source": [
        "Variation"
      ]
    },
    {
      "cell_type": "code",
      "metadata": {
        "colab": {
          "base_uri": "https://localhost:8080/"
        },
        "id": "jmrfq475lJor",
        "outputId": "0343f20b-3779-4041-a402-dd7f219e016e"
      },
      "source": [
        "X_train_cv['Variation'].value_counts().head(10)"
      ],
      "execution_count": 39,
      "outputs": [
        {
          "output_type": "execute_result",
          "data": {
            "text/plain": [
              "Truncating_Mutations    60\n",
              "Amplification           47\n",
              "Deletion                44\n",
              "Fusions                 21\n",
              "Overexpression           4\n",
              "Q61L                     3\n",
              "G12V                     3\n",
              "EWSR1-ETV1_Fusion        2\n",
              "Q61H                     2\n",
              "R170W                    2\n",
              "Name: Variation, dtype: int64"
            ]
          },
          "metadata": {
            "tags": []
          },
          "execution_count": 39
        }
      ]
    },
    {
      "cell_type": "code",
      "metadata": {
        "id": "5z9j2O5gnBWJ"
      },
      "source": [
        "gene_vectorizer = CountVectorizer()\r\n",
        "train_variation_onehot = gene_vectorizer.fit_transform(X_train_cv['Variation'])\r\n",
        "test_variation_onehot = gene_vectorizer.transform(X_test['Variation'])\r\n",
        "cv_variation_onehot = gene_vectorizer.transform(X_test_cv['Variation'])\r\n"
      ],
      "execution_count": 40,
      "outputs": []
    },
    {
      "cell_type": "code",
      "metadata": {
        "colab": {
          "base_uri": "https://localhost:8080/"
        },
        "id": "mYdVX7utndxl",
        "outputId": "5663bada-cb41-4256-a904-444a86b2db94"
      },
      "source": [
        "train_variation_onehot.shape"
      ],
      "execution_count": 41,
      "outputs": [
        {
          "output_type": "execute_result",
          "data": {
            "text/plain": [
              "(2124, 1966)"
            ]
          },
          "metadata": {
            "tags": []
          },
          "execution_count": 41
        }
      ]
    },
    {
      "cell_type": "code",
      "metadata": {
        "colab": {
          "base_uri": "https://localhost:8080/",
          "height": 448
        },
        "id": "xKEeiVgKnm0Y",
        "outputId": "245f458a-d377-4f3f-a06d-a47678f174b6"
      },
      "source": [
        "alpha=[10**x for x in range(-5,1)]\r\n",
        "\r\n",
        "cv_log_error_array=[]\r\n",
        "for i in alpha:\r\n",
        "  clf=SGDClassifier(alpha=i,penalty='l2',loss='log',random_state=42)\r\n",
        "  clf.fit(train_variation_onehot,y_train_cv)\r\n",
        "\r\n",
        "  sig_clf=CalibratedClassifierCV(clf,method=\"sigmoid\")\r\n",
        "  sig_clf.fit(train_variation_onehot,y_train_cv)\r\n",
        "  predict_y=sig_clf.predict_proba(cv_variation_onehot)\r\n",
        "\r\n",
        "  cv_log_error_array.append(log_loss(y_cv,predict_y,labels=clf.classes_,eps=1e-15))\r\n",
        "  print(\"For value of alpha=\",i,\"The log loss is\",log_loss(y_cv,predict_y,labels=clf.classes_,eps=1e-15))\r\n",
        "\r\n",
        "fig,ax=plt.subplots()\r\n",
        "ax.plot(alpha,cv_log_error_array,c='g')\r\n",
        "for i,txt in enumerate(np.round(cv_log_error_array,3)):\r\n",
        "  ax.annotate((alpha[i],str(txt)),(alpha[i],cv_log_error_array[i]))\r\n",
        "\r\n",
        "plt.grid()\r\n",
        "plt.title(\"Cross validation error for each alpha\")\r\n",
        "plt.xlabel(\"Alpha i's\")\r\n",
        "plt.ylabel(\"Error measure\")\r\n",
        "plt.show()\r\n",
        "\r\n",
        "best_alpha=np.argmin(cv_log_error_array)\r\n",
        "clf=SGDClassifier(alpha=alpha[best_alpha],penalty='l2',loss='log',random_state=42)\r\n",
        "clf.fit(train_variation_onehot,y_train_cv)\r\n",
        "\r\n",
        "sig_clf=CalibratedClassifierCV(clf,method=\"sigmoid\")\r\n",
        "sig_clf.fit(train_variation_onehot,y_train_cv)\r\n",
        "\r\n",
        "predict_y=sig_clf.predict_proba(train_variation_onehot)\r\n",
        "print(\"best alpha=\",alpha[best_alpha],\"The train log loss is :\",log_loss(y_train_cv,predict_y,labels=clf.classes_,eps=1e-15))\r\n",
        "\r\n",
        "predict_y=sig_clf.predict_proba(cv_variation_onehot)\r\n",
        "print(\"best alpha=\",alpha[best_alpha],\"The Cross validation log loss is :\",log_loss(y_cv,predict_y,labels=clf.classes_,eps=1e-15))\r\n",
        "\r\n",
        "predict_y=sig_clf.predict_proba(test_variation_onehot)\r\n",
        "print(\"best alpha=\",alpha[best_alpha],\"The Test log loss :\",log_loss(y_test,predict_y,labels=clf.classes_,eps=1e-15))"
      ],
      "execution_count": 42,
      "outputs": [
        {
          "output_type": "stream",
          "text": [
            "For value of alpha= 1e-05 The log loss is 1.7052107473656286\n",
            "For value of alpha= 0.0001 The log loss is 1.6983108401212605\n",
            "For value of alpha= 0.001 The log loss is 1.708110301443264\n",
            "For value of alpha= 0.01 The log loss is 1.7228751611252389\n",
            "For value of alpha= 0.1 The log loss is 1.7305655700415365\n",
            "For value of alpha= 1 The log loss is 1.7317795299956542\n"
          ],
          "name": "stdout"
        },
        {
          "output_type": "display_data",
          "data": {
            "image/png": "[encoded data removed]",
            "text/plain": [
              "<Figure size 432x288 with 1 Axes>"
            ]
          },
          "metadata": {
            "tags": [],
            "needs_background": "light"
          }
        },
        {
          "output_type": "stream",
          "text": [
            "best alpha= 0.0001 The train log loss is : 0.6893764854495487\n",
            "best alpha= 0.0001 The Cross validation log loss is : 1.6983108401212605\n",
            "best alpha= 0.0001 The Test log loss : 1.704066674360715\n"
          ],
          "name": "stdout"
        }
      ]
    },
    {
      "cell_type": "markdown",
      "metadata": {
        "id": "6dAcJVYNsH_N"
      },
      "source": [
        "Checking whether the Gene feature stable across all the data sets (Test, Train, Cross validation\r\n"
      ]
    },
    {
      "cell_type": "code",
      "metadata": {
        "colab": {
          "base_uri": "https://localhost:8080/"
        },
        "id": "tjToX27a00-g",
        "outputId": "72218323-31fb-40da-a78c-f32d89b8f91d"
      },
      "source": [
        "unique_variation=X_train_cv['Variation'].value_counts()\r\n",
        "print(unique_variation.head(10))"
      ],
      "execution_count": 43,
      "outputs": [
        {
          "output_type": "stream",
          "text": [
            "Truncating_Mutations    60\n",
            "Amplification           47\n",
            "Deletion                44\n",
            "Fusions                 21\n",
            "Overexpression           4\n",
            "Q61L                     3\n",
            "G12V                     3\n",
            "EWSR1-ETV1_Fusion        2\n",
            "Q61H                     2\n",
            "R170W                    2\n",
            "Name: Variation, dtype: int64\n"
          ],
          "name": "stdout"
        }
      ]
    },
    {
      "cell_type": "code",
      "metadata": {
        "colab": {
          "base_uri": "https://localhost:8080/",
          "height": 279
        },
        "id": "ELvqDf54wST0",
        "outputId": "d0cd1503-20ea-476c-df0e-77ef3be03d70"
      },
      "source": [
        "s=sum(unique_variation.values)\r\n",
        "h=unique_variation.values/s\r\n",
        "plt.plot(h,label=\"Histogram of variables\")\r\n",
        "plt.xlabel('Index of a Variation')\r\n",
        "plt.ylabel('Number of a Variation')\r\n",
        "plt.legend()\r\n",
        "plt.grid()\r\n",
        "plt.show()"
      ],
      "execution_count": 44,
      "outputs": [
        {
          "output_type": "display_data",
          "data": {
            "image/png": "[encoded data removed]",
            "text/plain": [
              "<Figure size 432x288 with 1 Axes>"
            ]
          },
          "metadata": {
            "tags": [],
            "needs_background": "light"
          }
        }
      ]
    },
    {
      "cell_type": "code",
      "metadata": {
        "colab": {
          "base_uri": "https://localhost:8080/",
          "height": 282
        },
        "id": "jb3kLcEkxF3s",
        "outputId": "08347974-098b-48d9-8f14-f5c2b9908707"
      },
      "source": [
        "c = np.cumsum(h)\r\n",
        "print(c)\r\n",
        "plt.plot(c,label='Cumulative distribution of Variations')\r\n",
        "plt.grid()\r\n",
        "plt.legend()\r\n",
        "plt.show()"
      ],
      "execution_count": 45,
      "outputs": [
        {
          "output_type": "stream",
          "text": [
            "[0.02824859 0.05037665 0.07109228 ... 0.99905838 0.99952919 1.        ]\n"
          ],
          "name": "stdout"
        },
        {
          "output_type": "display_data",
          "data": {
            "image/png": "[encoded data removed]",
            "text/plain": [
              "<Figure size 432x288 with 1 Axes>"
            ]
          },
          "metadata": {
            "tags": [],
            "needs_background": "light"
          }
        }
      ]
    },
    {
      "cell_type": "code",
      "metadata": {
        "colab": {
          "base_uri": "https://localhost:8080/"
        },
        "id": "Ug-Th6kkdMBD",
        "outputId": "9320b1b6-8f52-42c7-956f-881bd992a926"
      },
      "source": [
        "print(\"Q12. How many data points are covered by total \", unique_variation.shape[0], \" genes in test and cross validation data sets?\")\r\n",
        "test_coverage=X_test[X_test['Variation'].isin(list(set(X_train_cv['Variation'])))].shape[0]\r\n",
        "cv_coverage=X_test_cv[X_test_cv['Variation'].isin(list(set(X_train_cv['Variation'])))].shape[0]\r\n",
        "print('Ans\\n1. In test data',test_coverage, 'out of',X_test.shape[0], \":\",(test_coverage/X_test.shape[0])*100)\r\n",
        "print('2. In cross validation data',cv_coverage, 'out of ',X_test_cv.shape[0],\":\" ,(cv_coverage/X_test_cv.shape[0])*100)"
      ],
      "execution_count": 46,
      "outputs": [
        {
          "output_type": "stream",
          "text": [
            "Q12. How many data points are covered by total  1929  genes in test and cross validation data sets?\n",
            "Ans\n",
            "1. In test data 67 out of 665 : 10.075187969924812\n",
            "2. In cross validation data 57 out of  532 : 10.714285714285714\n"
          ],
          "name": "stdout"
        }
      ]
    },
    {
      "cell_type": "markdown",
      "metadata": {
        "id": "dp6Kq4JYuN6_"
      },
      "source": [
        "Univariate Analysis on Text Feature"
      ]
    },
    {
      "cell_type": "code",
      "metadata": {
        "id": "6st98bdmuO05",
        "colab": {
          "base_uri": "https://localhost:8080/",
          "height": 204
        },
        "outputId": "d5efa2b9-c37e-472d-f6fa-847599f04d61"
      },
      "source": [
        "X_train_cv.head()"
      ],
      "execution_count": 47,
      "outputs": [
        {
          "output_type": "execute_result",
          "data": {
            "text/html": [
              "<div>\n",
              "<style scoped>\n",
              "    .dataframe tbody tr th:only-of-type {\n",
              "        vertical-align: middle;\n",
              "    }\n",
              "\n",
              "    .dataframe tbody tr th {\n",
              "        vertical-align: top;\n",
              "    }\n",
              "\n",
              "    .dataframe thead th {\n",
              "        text-align: right;\n",
              "    }\n",
              "</style>\n",
              "<table border=\"1\" class=\"dataframe\">\n",
              "  <thead>\n",
              "    <tr style=\"text-align: right;\">\n",
              "      <th></th>\n",
              "      <th>ID</th>\n",
              "      <th>Gene</th>\n",
              "      <th>Variation</th>\n",
              "      <th>Class</th>\n",
              "      <th>Text</th>\n",
              "    </tr>\n",
              "  </thead>\n",
              "  <tbody>\n",
              "    <tr>\n",
              "      <th>1432</th>\n",
              "      <td>1432</td>\n",
              "      <td>SPOP</td>\n",
              "      <td>M117V</td>\n",
              "      <td>4</td>\n",
              "      <td>SPOP M117V</td>\n",
              "    </tr>\n",
              "    <tr>\n",
              "      <th>27</th>\n",
              "      <td>27</td>\n",
              "      <td>TERT</td>\n",
              "      <td>Y846C</td>\n",
              "      <td>4</td>\n",
              "      <td>heterozygous mutations telomerase components t...</td>\n",
              "    </tr>\n",
              "    <tr>\n",
              "      <th>988</th>\n",
              "      <td>988</td>\n",
              "      <td>ETV6</td>\n",
              "      <td>ETV6-NTRK3_Fusion</td>\n",
              "      <td>7</td>\n",
              "      <td>ETV6 ETV6-NTRK3 Fusion</td>\n",
              "    </tr>\n",
              "    <tr>\n",
              "      <th>1229</th>\n",
              "      <td>1229</td>\n",
              "      <td>PIK3CB</td>\n",
              "      <td>D1067A</td>\n",
              "      <td>7</td>\n",
              "      <td>PIK3CB D1067A</td>\n",
              "    </tr>\n",
              "    <tr>\n",
              "      <th>2190</th>\n",
              "      <td>2190</td>\n",
              "      <td>PTEN</td>\n",
              "      <td>G165R</td>\n",
              "      <td>4</td>\n",
              "      <td>PTEN G165R</td>\n",
              "    </tr>\n",
              "  </tbody>\n",
              "</table>\n",
              "</div>"
            ],
            "text/plain": [
              "        ID    Gene  ... Class                                               Text\n",
              "1432  1432    SPOP  ...     4                                         SPOP M117V\n",
              "27      27    TERT  ...     4  heterozygous mutations telomerase components t...\n",
              "988    988    ETV6  ...     7                             ETV6 ETV6-NTRK3 Fusion\n",
              "1229  1229  PIK3CB  ...     7                                      PIK3CB D1067A\n",
              "2190  2190    PTEN  ...     4                                         PTEN G165R\n",
              "\n",
              "[5 rows x 5 columns]"
            ]
          },
          "metadata": {
            "tags": []
          },
          "execution_count": 47
        }
      ]
    },
    {
      "cell_type": "code",
      "metadata": {
        "id": "DZQdMzq30aG_"
      },
      "source": [
        "import collections\r\n",
        "def extract_dictionary_paddle(cls_text):\r\n",
        "  dictionary=collections.defaultdict(int)\r\n",
        "  for index,row in cls_text.iterrows():\r\n",
        "    for word in row['Text'].split():\r\n",
        "      dictionary[word]=dictionary[word]+1\r\n",
        "  return dictionary"
      ],
      "execution_count": 48,
      "outputs": []
    },
    {
      "cell_type": "code",
      "metadata": {
        "colab": {
          "base_uri": "https://localhost:8080/",
          "height": 204
        },
        "id": "4sXIbXYCMH53",
        "outputId": "387cbca3-3a09-49ec-cefa-c83697eb5aff"
      },
      "source": [
        "X_train_cv.head()"
      ],
      "execution_count": 49,
      "outputs": [
        {
          "output_type": "execute_result",
          "data": {
            "text/html": [
              "<div>\n",
              "<style scoped>\n",
              "    .dataframe tbody tr th:only-of-type {\n",
              "        vertical-align: middle;\n",
              "    }\n",
              "\n",
              "    .dataframe tbody tr th {\n",
              "        vertical-align: top;\n",
              "    }\n",
              "\n",
              "    .dataframe thead th {\n",
              "        text-align: right;\n",
              "    }\n",
              "</style>\n",
              "<table border=\"1\" class=\"dataframe\">\n",
              "  <thead>\n",
              "    <tr style=\"text-align: right;\">\n",
              "      <th></th>\n",
              "      <th>ID</th>\n",
              "      <th>Gene</th>\n",
              "      <th>Variation</th>\n",
              "      <th>Class</th>\n",
              "      <th>Text</th>\n",
              "    </tr>\n",
              "  </thead>\n",
              "  <tbody>\n",
              "    <tr>\n",
              "      <th>1432</th>\n",
              "      <td>1432</td>\n",
              "      <td>SPOP</td>\n",
              "      <td>M117V</td>\n",
              "      <td>4</td>\n",
              "      <td>SPOP M117V</td>\n",
              "    </tr>\n",
              "    <tr>\n",
              "      <th>27</th>\n",
              "      <td>27</td>\n",
              "      <td>TERT</td>\n",
              "      <td>Y846C</td>\n",
              "      <td>4</td>\n",
              "      <td>heterozygous mutations telomerase components t...</td>\n",
              "    </tr>\n",
              "    <tr>\n",
              "      <th>988</th>\n",
              "      <td>988</td>\n",
              "      <td>ETV6</td>\n",
              "      <td>ETV6-NTRK3_Fusion</td>\n",
              "      <td>7</td>\n",
              "      <td>ETV6 ETV6-NTRK3 Fusion</td>\n",
              "    </tr>\n",
              "    <tr>\n",
              "      <th>1229</th>\n",
              "      <td>1229</td>\n",
              "      <td>PIK3CB</td>\n",
              "      <td>D1067A</td>\n",
              "      <td>7</td>\n",
              "      <td>PIK3CB D1067A</td>\n",
              "    </tr>\n",
              "    <tr>\n",
              "      <th>2190</th>\n",
              "      <td>2190</td>\n",
              "      <td>PTEN</td>\n",
              "      <td>G165R</td>\n",
              "      <td>4</td>\n",
              "      <td>PTEN G165R</td>\n",
              "    </tr>\n",
              "  </tbody>\n",
              "</table>\n",
              "</div>"
            ],
            "text/plain": [
              "        ID    Gene  ... Class                                               Text\n",
              "1432  1432    SPOP  ...     4                                         SPOP M117V\n",
              "27      27    TERT  ...     4  heterozygous mutations telomerase components t...\n",
              "988    988    ETV6  ...     7                             ETV6 ETV6-NTRK3 Fusion\n",
              "1229  1229  PIK3CB  ...     7                                      PIK3CB D1067A\n",
              "2190  2190    PTEN  ...     4                                         PTEN G165R\n",
              "\n",
              "[5 rows x 5 columns]"
            ]
          },
          "metadata": {
            "tags": []
          },
          "execution_count": 49
        }
      ]
    },
    {
      "cell_type": "code",
      "metadata": {
        "colab": {
          "base_uri": "https://localhost:8080/"
        },
        "id": "77oJEAkVBMOh",
        "outputId": "17b71175-59db-4cdb-e64a-0a533c5efaf0"
      },
      "source": [
        "# building a CountVectorizer with all the words that occured minimum 3 times in train data\r\n",
        "text_vectorizer=CountVectorizer(min_df=3)\r\n",
        "train_text_onehot=text_vectorizer.fit_transform(X_train_cv['Text'])\r\n",
        "\r\n",
        "# getting all the feature names (words)\r\n",
        "train_text_features=text_vectorizer.get_feature_names()\r\n",
        "\r\n",
        "# train_text_feature_onehotCoding.sum(axis=0).A1 will sum every row and returns (1*number of features) vector\r\n",
        "train_text_fea_counts=train_text_onehot.sum(axis=0).A1\r\n",
        "text_fea_dict=dict(zip(list(train_text_features),train_text_fea_counts))\r\n",
        "\r\n",
        "print(\"Total number of unique words in train data :\",len(train_text_features))"
      ],
      "execution_count": 50,
      "outputs": [
        {
          "output_type": "stream",
          "text": [
            "Total number of unique words in train data : 8557\n"
          ],
          "name": "stdout"
        }
      ]
    },
    {
      "cell_type": "code",
      "metadata": {
        "id": "u927Jb-kBMLR"
      },
      "source": [
        "dict_list=[]\r\n",
        "for i in range(1,10):\r\n",
        "  cls_text=X_train_cv[X_train_cv['Class']==i]\r\n",
        "  dict_list.append(extract_dictionary_paddle(cls_text))\r\n",
        "\r\n",
        "total_dict=extract_dictionary_paddle(X_train_cv)\r\n",
        "\r\n",
        "\r\n",
        "confuse_array=[]\r\n",
        "for i in train_text_features:\r\n",
        "  ratios=[]\r\n",
        "  max_val=-1\r\n",
        "  for j in range(0,9):\r\n",
        "    ratios.append((dict_list[j][i]+10)/(total_dict[i]+90))\r\n",
        "  confuse_array.append(ratios)\r\n",
        "confuse_array=np.array(confuse_array)"
      ],
      "execution_count": 51,
      "outputs": []
    },
    {
      "cell_type": "markdown",
      "metadata": {
        "id": "MZxqPik-Qn-2"
      },
      "source": [
        "OneHotCoding"
      ]
    },
    {
      "cell_type": "code",
      "metadata": {
        "id": "pVHSxXOGBL88"
      },
      "source": [
        "from sklearn.preprocessing import normalize\r\n",
        "train_text_onehot=normalize(train_text_onehot,axis=0)\r\n",
        "\r\n",
        "# we use the same vectorizer that was trained on train data\r\n",
        "test_text_onehot=text_vectorizer.transform(X_test['Text'])\r\n",
        "\r\n",
        "# don't forget to normalize every feature\r\n",
        "test_text_onehot=normalize(test_text_onehot,axis=0)\r\n",
        "\r\n",
        "# we use the same vectorizer that was trained on train data\r\n",
        "cv_text_onehot=text_vectorizer.transform(X_test_cv['Text'])\r\n",
        "\r\n",
        "# don't forget to normalize every feature\r\n",
        "cv_text_onehot=normalize(cv_text_onehot,axis=0)"
      ],
      "execution_count": 52,
      "outputs": []
    },
    {
      "cell_type": "code",
      "metadata": {
        "id": "30_dY3MdTmo1"
      },
      "source": [
        "sorted_text_fea_dict=dict(sorted(text_fea_dict.items(),key=lambda x:x[1],reverse=True))\r\n",
        "sorted_text_occur=np.array(list(sorted_text_fea_dict.values()))"
      ],
      "execution_count": 53,
      "outputs": []
    },
    {
      "cell_type": "code",
      "metadata": {
        "colab": {
          "base_uri": "https://localhost:8080/"
        },
        "id": "44Rspe7pNKog",
        "outputId": "d430e935-b3fb-4f2d-d140-5dd2651c2097"
      },
      "source": [
        "sorted_text_fea_dict"
      ],
      "execution_count": 54,
      "outputs": [
        {
          "output_type": "execute_result",
          "data": {
            "text/plain": [
              "{'mutations': 5579,\n",
              " 'cells': 3814,\n",
              " 'cbl': 3596,\n",
              " 'cell': 3534,\n",
              " 'figure': 2536,\n",
              " 'et': 2429,\n",
              " 'cancer': 2408,\n",
              " 'al': 2387,\n",
              " 'mutation': 2242,\n",
              " 'protein': 1991,\n",
              " 'fig': 1935,\n",
              " 'dna': 1834,\n",
              " 'type': 1677,\n",
              " 'activity': 1559,\n",
              " 'expression': 1554,\n",
              " 'binding': 1463,\n",
              " 'also': 1427,\n",
              " 'data': 1401,\n",
              " 'domain': 1396,\n",
              " 'ptp': 1349,\n",
              " 'gene': 1346,\n",
              " 'tumor': 1288,\n",
              " 'patients': 1258,\n",
              " 'analysis': 1251,\n",
              " 'using': 1246,\n",
              " '10': 1243,\n",
              " 'two': 1240,\n",
              " 'variants': 1231,\n",
              " 'table': 1225,\n",
              " 'mutant': 1222,\n",
              " 'wild': 1216,\n",
              " 'tumors': 1203,\n",
              " 'cyclin': 1164,\n",
              " 'proteins': 1103,\n",
              " 'may': 1069,\n",
              " 'genes': 1035,\n",
              " 'one': 1021,\n",
              " 'msh6': 980,\n",
              " 'shown': 975,\n",
              " 'msh2': 968,\n",
              " 'dicer1': 956,\n",
              " 'tgfbr2': 912,\n",
              " 'tgf': 892,\n",
              " 'human': 887,\n",
              " 'used': 886,\n",
              " 'found': 884,\n",
              " 'results': 873,\n",
              " 'associated': 851,\n",
              " 'cases': 850,\n",
              " 'lines': 821,\n",
              " 'identified': 815,\n",
              " 'observed': 814,\n",
              " 'tert': 802,\n",
              " 'supplementary': 798,\n",
              " 'mutants': 794,\n",
              " 'cancers': 774,\n",
              " 'function': 774,\n",
              " 'muts': 758,\n",
              " 'msi': 754,\n",
              " 'egfr': 753,\n",
              " 'kinase': 749,\n",
              " 'signaling': 712,\n",
              " 'rheb': 693,\n",
              " 'however': 681,\n",
              " 'flt3': 674,\n",
              " 'complex': 672,\n",
              " 'loss': 671,\n",
              " 'levels': 670,\n",
              " 'wt': 665,\n",
              " 'different': 662,\n",
              " 'activation': 660,\n",
              " 'atp': 656,\n",
              " 'study': 644,\n",
              " 'growth': 636,\n",
              " 'sequence': 635,\n",
              " 'domains': 631,\n",
              " 'mtor': 622,\n",
              " 'phosphorylation': 613,\n",
              " 'deletion': 606,\n",
              " 'number': 601,\n",
              " 'previously': 599,\n",
              " 'samples': 599,\n",
              " '12': 596,\n",
              " 'described': 593,\n",
              " 'site': 581,\n",
              " 'normal': 576,\n",
              " 'high': 575,\n",
              " '15': 573,\n",
              " '20': 572,\n",
              " 'd1': 571,\n",
              " 'mice': 566,\n",
              " 'three': 566,\n",
              " 'family': 556,\n",
              " 'increased': 553,\n",
              " 'mismatch': 548,\n",
              " 'functional': 542,\n",
              " 'compared': 541,\n",
              " 'receptor': 541,\n",
              " 'studies': 527,\n",
              " 'although': 526,\n",
              " 'well': 526,\n",
              " 'syndrome': 525,\n",
              " 'could': 524,\n",
              " 'specific': 523,\n",
              " 'pathway': 521,\n",
              " 'role': 521,\n",
              " 'changes': 520,\n",
              " 'expressing': 518,\n",
              " 'clinical': 515,\n",
              " '30': 512,\n",
              " 'anti': 510,\n",
              " 'reported': 508,\n",
              " 'effects': 504,\n",
              " 'performed': 504,\n",
              " 'promoter': 499,\n",
              " 'sequencing': 488,\n",
              " 'disease': 485,\n",
              " 'ptprt': 484,\n",
              " '11': 483,\n",
              " 'amino': 483,\n",
              " 'similar': 482,\n",
              " 'control': 474,\n",
              " 'non': 471,\n",
              " 'showed': 471,\n",
              " '13': 466,\n",
              " 'families': 460,\n",
              " 'region': 459,\n",
              " 'presence': 457,\n",
              " 'tyrosine': 450,\n",
              " 'effect': 449,\n",
              " 'including': 443,\n",
              " 'patient': 443,\n",
              " 'negative': 441,\n",
              " 'containing': 434,\n",
              " 'expressed': 433,\n",
              " 'mmr': 433,\n",
              " 'detected': 431,\n",
              " 'mm': 431,\n",
              " 'kit': 426,\n",
              " '100': 423,\n",
              " 'pcr': 423,\n",
              " 'missense': 422,\n",
              " 'mutated': 422,\n",
              " 'several': 422,\n",
              " '16': 421,\n",
              " 'analyzed': 418,\n",
              " 'based': 415,\n",
              " 'either': 414,\n",
              " 'positive': 414,\n",
              " 'hydrolysis': 413,\n",
              " 'repair': 410,\n",
              " 'indicated': 406,\n",
              " 'transfected': 406,\n",
              " 'exon': 405,\n",
              " 'first': 405,\n",
              " 'residues': 405,\n",
              " 'stability': 405,\n",
              " 'single': 404,\n",
              " 'known': 403,\n",
              " 'nucleotide': 403,\n",
              " 'structure': 403,\n",
              " 'colorectal': 402,\n",
              " 'mediated': 397,\n",
              " 'variant': 396,\n",
              " 'whereas': 395,\n",
              " 'whether': 395,\n",
              " 'class': 393,\n",
              " 'free': 389,\n",
              " 'methods': 388,\n",
              " '50': 387,\n",
              " 'e2': 387,\n",
              " 'germline': 387,\n",
              " 'line': 387,\n",
              " 'ii': 385,\n",
              " 'show': 381,\n",
              " 'derived': 380,\n",
              " 'significant': 379,\n",
              " 'genomic': 378,\n",
              " '14': 377,\n",
              " 'rnase': 377,\n",
              " 'state': 377,\n",
              " 'tumour': 377,\n",
              " '17': 376,\n",
              " '25': 375,\n",
              " 'cycle': 375,\n",
              " 'respectively': 373,\n",
              " 'addition': 372,\n",
              " 'ras': 372,\n",
              " 'total': 367,\n",
              " 'regions': 366,\n",
              " 'telomerase': 364,\n",
              " 'frequency': 363,\n",
              " 'min': 363,\n",
              " 'four': 359,\n",
              " 'mlh1': 359,\n",
              " 'classification': 356,\n",
              " 'alterations': 354,\n",
              " 'tgfbr1': 353,\n",
              " 'tumours': 353,\n",
              " 'likely': 352,\n",
              " 'ml': 349,\n",
              " 'aggregation': 348,\n",
              " 'lung': 348,\n",
              " 'therefore': 348,\n",
              " 'age': 347,\n",
              " 'significantly': 347,\n",
              " 'thus': 347,\n",
              " 'mirna': 346,\n",
              " 'breast': 344,\n",
              " 'highly': 342,\n",
              " 'primary': 342,\n",
              " 'required': 342,\n",
              " 'information': 341,\n",
              " 'phenotype': 341,\n",
              " 'small': 341,\n",
              " 'colon': 340,\n",
              " 'sites': 339,\n",
              " 'case': 338,\n",
              " 'important': 338,\n",
              " 'acid': 336,\n",
              " 'suggest': 335,\n",
              " '24': 334,\n",
              " 'test': 332,\n",
              " 'affected': 331,\n",
              " 'induced': 327,\n",
              " 'rna': 327,\n",
              " 'somatic': 324,\n",
              " 'assays': 323,\n",
              " 'within': 323,\n",
              " 'present': 322,\n",
              " 'result': 320,\n",
              " 'proliferation': 319,\n",
              " 'genetic': 318,\n",
              " 'without': 318,\n",
              " 'due': 317,\n",
              " 'assay': 314,\n",
              " 'additional': 312,\n",
              " 'antibodies': 312,\n",
              " 'large': 312,\n",
              " 'molecular': 312,\n",
              " 'reduced': 312,\n",
              " 'revealed': 312,\n",
              " '19': 310,\n",
              " 'experiments': 310,\n",
              " 'allele': 309,\n",
              " 'surface': 308,\n",
              " '18': 306,\n",
              " 'evidence': 305,\n",
              " 'absence': 304,\n",
              " 'model': 303,\n",
              " 'dependent': 302,\n",
              " 'independent': 302,\n",
              " 'determined': 301,\n",
              " 'mrna': 300,\n",
              " 'low': 299,\n",
              " 'see': 299,\n",
              " 'obtained': 298,\n",
              " 'carcinoma': 297,\n",
              " 'catalytic': 297,\n",
              " 'survival': 297,\n",
              " 'available': 295,\n",
              " 'change': 295,\n",
              " 'hmsh6': 295,\n",
              " 'conserved': 292,\n",
              " 'bound': 291,\n",
              " 'many': 291,\n",
              " 'atpase': 289,\n",
              " 'consistent': 288,\n",
              " 'constructs': 288,\n",
              " 'myeloid': 288,\n",
              " 'treatment': 288,\n",
              " 'years': 288,\n",
              " 'level': 285,\n",
              " 'would': 285,\n",
              " 'methylation': 284,\n",
              " 'involved': 283,\n",
              " '21': 282,\n",
              " 'factor': 280,\n",
              " 'rii': 279,\n",
              " 'suggesting': 279,\n",
              " 'types': 277,\n",
              " 'might': 276,\n",
              " 'sequences': 276,\n",
              " 'copy': 275,\n",
              " 'go': 275,\n",
              " 'pathogenic': 275,\n",
              " 'indicate': 274,\n",
              " 'tested': 273,\n",
              " 'microsatellite': 272,\n",
              " 'active': 270,\n",
              " 'among': 270,\n",
              " 'rit1': 270,\n",
              " 'gsk': 269,\n",
              " 'mtorc1': 269,\n",
              " 'according': 268,\n",
              " 'group': 268,\n",
              " 'iii': 268,\n",
              " 'instability': 268,\n",
              " 'least': 268,\n",
              " 'fniii': 267,\n",
              " 'sf9': 267,\n",
              " 'adhesion': 266,\n",
              " 'deletions': 266,\n",
              " 'contrast': 265,\n",
              " 'leukemia': 263,\n",
              " 'vitro': 263,\n",
              " 'crc': 262,\n",
              " 'score': 262,\n",
              " 'located': 261,\n",
              " '27': 260,\n",
              " 'interaction': 259,\n",
              " 'mechanism': 259,\n",
              " 'ubiquitin': 259,\n",
              " 'pathways': 258,\n",
              " '22': 257,\n",
              " 'amplification': 257,\n",
              " 'primers': 257,\n",
              " 'residue': 257,\n",
              " 'five': 256,\n",
              " 'homozygous': 256,\n",
              " 'heterozygous': 255,\n",
              " 'multiple': 255,\n",
              " 'stimulation': 254,\n",
              " 'affect': 253,\n",
              " 'higher': 253,\n",
              " 'related': 253,\n",
              " 'analyses': 252,\n",
              " 'states': 252,\n",
              " 'substrate': 252,\n",
              " '26': 251,\n",
              " 'like': 251,\n",
              " '40': 250,\n",
              " 'predicted': 250,\n",
              " 'gtp': 249,\n",
              " 'relative': 248,\n",
              " 'ring': 248,\n",
              " 'antibody': 247,\n",
              " 'buffer': 246,\n",
              " 'demonstrated': 246,\n",
              " 'possible': 245,\n",
              " 'stat3': 245,\n",
              " 'form': 244,\n",
              " 'vector': 244,\n",
              " 'tissue': 243,\n",
              " 'genome': 241,\n",
              " 'mean': 241,\n",
              " 'full': 237,\n",
              " 'values': 236,\n",
              " 'common': 235,\n",
              " 'fold': 234,\n",
              " 'phosphatase': 234,\n",
              " 'recurrent': 234,\n",
              " 'brca1': 233,\n",
              " 'chromosome': 233,\n",
              " 'complexes': 233,\n",
              " 'time': 233,\n",
              " 'findings': 232,\n",
              " 'mouse': 232,\n",
              " 'mirnas': 231,\n",
              " 'serum': 231,\n",
              " 'suppressor': 231,\n",
              " '37': 229,\n",
              " 'fl': 229,\n",
              " 'length': 228,\n",
              " 'damaging': 227,\n",
              " 'development': 227,\n",
              " 'extracellular': 227,\n",
              " 'kinases': 227,\n",
              " 'second': 225,\n",
              " 'nm': 224,\n",
              " 'association': 223,\n",
              " 'degradation': 221,\n",
              " 'increase': 221,\n",
              " 'lanes': 220,\n",
              " '2a': 218,\n",
              " 'inhibition': 218,\n",
              " 'new': 218,\n",
              " 'recently': 218,\n",
              " 'p53': 217,\n",
              " 'repeats': 217,\n",
              " 'cellular': 215,\n",
              " 'e3': 215,\n",
              " '2008': 214,\n",
              " '28': 214,\n",
              " 'transcription': 214,\n",
              " 'activated': 213,\n",
              " 'features': 213,\n",
              " 'structures': 213,\n",
              " 'upon': 213,\n",
              " 'system': 212,\n",
              " 'factors': 211,\n",
              " 'following': 211,\n",
              " 'mode': 211,\n",
              " 'previous': 211,\n",
              " 'criteria': 210,\n",
              " 'indicating': 210,\n",
              " 'carriers': 209,\n",
              " 'furthermore': 209,\n",
              " 'overall': 209,\n",
              " 'activating': 208,\n",
              " 'controls': 208,\n",
              " 'individuals': 208,\n",
              " 'signal': 208,\n",
              " 'lysates': 207,\n",
              " 'oncogenic': 207,\n",
              " 's1': 207,\n",
              " 'insight': 206,\n",
              " '60': 205,\n",
              " 'considered': 205,\n",
              " 'members': 205,\n",
              " 'terminal': 205,\n",
              " 'bp': 204,\n",
              " 'modes': 204,\n",
              " '000': 203,\n",
              " '23': 203,\n",
              " 'resulting': 203,\n",
              " 'set': 203,\n",
              " 'nd': 202,\n",
              " 'resulted': 202,\n",
              " 'directly': 201,\n",
              " 'overexpression': 201,\n",
              " 'hmsh2': 200,\n",
              " 'inhibitor': 199,\n",
              " 'provide': 198,\n",
              " '29': 197,\n",
              " '31': 197,\n",
              " 'iiib': 197,\n",
              " 'ng': 197,\n",
              " 'cdk6': 196,\n",
              " 'novel': 196,\n",
              " 'seen': 196,\n",
              " 'cs': 195,\n",
              " 'endometrial': 195,\n",
              " 'functions': 195,\n",
              " 'target': 195,\n",
              " 'determine': 194,\n",
              " 'differences': 194,\n",
              " 'structural': 194,\n",
              " '2006': 193,\n",
              " 'potential': 193,\n",
              " 'progression': 193,\n",
              " 'value': 193,\n",
              " 'braf': 192,\n",
              " 'experimental': 192,\n",
              " 'frequently': 192,\n",
              " 'fusion': 192,\n",
              " 'sample': 192,\n",
              " 'phase': 191,\n",
              " 'point': 191,\n",
              " 'y35a': 191,\n",
              " '2001': 190,\n",
              " 'egf': 190,\n",
              " 'gc': 190,\n",
              " 'interestingly': 190,\n",
              " '2004': 189,\n",
              " 'blood': 189,\n",
              " 'confirmed': 189,\n",
              " 'formation': 189,\n",
              " 'mechanisms': 189,\n",
              " 'msh': 189,\n",
              " 'ubiquitination': 189,\n",
              " '33': 188,\n",
              " 'crystal': 188,\n",
              " 'tp53': 188,\n",
              " 'gm': 187,\n",
              " 'lane': 187,\n",
              " '48': 186,\n",
              " 'bone': 186,\n",
              " 'lower': 186,\n",
              " 'hotspot': 185,\n",
              " 'ligand': 185,\n",
              " 'risk': 185,\n",
              " 'aupd': 184,\n",
              " 'cdk4': 184,\n",
              " 'events': 184,\n",
              " 'identify': 184,\n",
              " 'per': 184,\n",
              " 'together': 184,\n",
              " 'fact': 183,\n",
              " 'included': 182,\n",
              " 'incubated': 182,\n",
              " 'ca': 181,\n",
              " 'downstream': 181,\n",
              " 'energy': 181,\n",
              " 'pi3k': 181,\n",
              " 'alleles': 178,\n",
              " 'suggests': 178,\n",
              " 'recognition': 177,\n",
              " 'decreased': 176,\n",
              " 'dominant': 176,\n",
              " 'mapk': 176,\n",
              " 'models': 176,\n",
              " 'response': 176,\n",
              " 'ability': 175,\n",
              " 'conditions': 175,\n",
              " 'inactivation': 175,\n",
              " 'since': 175,\n",
              " 'coding': 174,\n",
              " 'correlation': 174,\n",
              " 'encoding': 174,\n",
              " 'less': 174,\n",
              " 'r420q': 174,\n",
              " 'splicing': 172,\n",
              " 'staining': 172,\n",
              " '1997': 171,\n",
              " 'acids': 171,\n",
              " 'examined': 171,\n",
              " 'ha': 171,\n",
              " 's2': 171,\n",
              " 'status': 171,\n",
              " '32': 170,\n",
              " 'chain': 170,\n",
              " 'affinity': 169,\n",
              " 'alk': 169,\n",
              " 'characterized': 169,\n",
              " 'early': 169,\n",
              " 'jak2': 169,\n",
              " 'panel': 168,\n",
              " '34': 167,\n",
              " 'interactions': 167,\n",
              " 'skin': 167,\n",
              " 'transfection': 167,\n",
              " 'truncating': 167,\n",
              " 'cdna': 166,\n",
              " 'defective': 166,\n",
              " 'lead': 166,\n",
              " 'ovarian': 166,\n",
              " 'vivo': 166,\n",
              " '3a': 165,\n",
              " 'dicer': 165,\n",
              " '70z': 164,\n",
              " 'example': 164,\n",
              " 'figures': 164,\n",
              " 'phosphorylated': 164,\n",
              " 'suggested': 164,\n",
              " 'driver': 163,\n",
              " 'individual': 163,\n",
              " 'next': 163,\n",
              " 'aml': 162,\n",
              " 'rate': 162,\n",
              " 'construct': 161,\n",
              " 'discussion': 161,\n",
              " 'impact': 161,\n",
              " 'ligase': 161,\n",
              " 'regulation': 161,\n",
              " 'demonstrate': 160,\n",
              " 'marrow': 160,\n",
              " 'six': 160,\n",
              " 'tissues': 160,\n",
              " '38': 159,\n",
              " 'another': 159,\n",
              " 'components': 159,\n",
              " 'moreover': 159,\n",
              " '36': 158,\n",
              " 'database': 158,\n",
              " 'exons': 158,\n",
              " 'play': 158,\n",
              " 'stimulated': 157,\n",
              " 'treated': 157,\n",
              " '1995': 156,\n",
              " '35': 156,\n",
              " 'co': 156,\n",
              " 'intrinsic': 156,\n",
              " 'smad4': 156,\n",
              " 'switch': 156,\n",
              " '1a': 155,\n",
              " '2009': 155,\n",
              " 'hematopoietic': 155,\n",
              " 'molecules': 155,\n",
              " 'reaction': 155,\n",
              " '1b': 154,\n",
              " 'carcinomas': 154,\n",
              " '1999': 153,\n",
              " '2007': 153,\n",
              " 'ig': 153,\n",
              " 'whole': 153,\n",
              " 'affecting': 152,\n",
              " 'endogenous': 152,\n",
              " 'rare': 152,\n",
              " 'smad2': 152,\n",
              " 'upn': 152,\n",
              " 'expected': 151,\n",
              " 'rapamycin': 151,\n",
              " 'ri': 151,\n",
              " 'probably': 150,\n",
              " 'receptors': 150,\n",
              " 'altered': 149,\n",
              " 'comparison': 149,\n",
              " 'finger': 149,\n",
              " 'significance': 149,\n",
              " 'complete': 147,\n",
              " 'enhanced': 147,\n",
              " 'generated': 147,\n",
              " 'helix': 147,\n",
              " 'ppb': 147,\n",
              " 'regulated': 147,\n",
              " 'cause': 146,\n",
              " 'random': 146,\n",
              " 'unknown': 146,\n",
              " '32d': 145,\n",
              " 'calculated': 145,\n",
              " 'caused': 145,\n",
              " 'y35n': 145,\n",
              " 'inhibitors': 144,\n",
              " 'corresponding': 143,\n",
              " 'distinct': 143,\n",
              " 'essential': 143,\n",
              " 'mam': 143,\n",
              " 'markers': 143,\n",
              " 'population': 143,\n",
              " 'evaluated': 142,\n",
              " 'recent': 142,\n",
              " 'melanoma': 141,\n",
              " 'nuclear': 141,\n",
              " 'org': 141,\n",
              " 'provided': 141,\n",
              " 'sds': 141,\n",
              " 'strongly': 141,\n",
              " 'base': 140,\n",
              " 'contains': 140,\n",
              " 'tyr35': 140,\n",
              " 'via': 140,\n",
              " 'indicates': 139,\n",
              " 'mutational': 139,\n",
              " 'size': 139,\n",
              " 'substitution': 139,\n",
              " '11q': 138,\n",
              " 'heteroduplex': 138,\n",
              " 'prior': 138,\n",
              " 'stem': 138,\n",
              " 'targeted': 138,\n",
              " '05': 136,\n",
              " 'applied': 136,\n",
              " 'even': 136,\n",
              " 'given': 136,\n",
              " 'hypermutated': 136,\n",
              " 'occur': 136,\n",
              " 'tumorigenesis': 136,\n",
              " 'western': 136,\n",
              " 'diagnosis': 135,\n",
              " 'red': 135,\n",
              " 'represent': 135,\n",
              " 'supplemental': 135,\n",
              " 'basis': 134,\n",
              " 'diagnosed': 134,\n",
              " 'majority': 134,\n",
              " 'www': 134,\n",
              " 'bat': 133,\n",
              " 'bind': 133,\n",
              " 'directed': 133,\n",
              " 'include': 133,\n",
              " 'index': 133,\n",
              " 'lesions': 133,\n",
              " 'remains': 133,\n",
              " 'showing': 133,\n",
              " 'studied': 133,\n",
              " 'terc': 133,\n",
              " 'adenocarcinoma': 132,\n",
              " 'detection': 132,\n",
              " 'fragment': 132,\n",
              " 'introduction': 132,\n",
              " '41': 131,\n",
              " 'adp': 131,\n",
              " 'distribution': 131,\n",
              " 'selected': 131,\n",
              " 'stage': 131,\n",
              " 'tagged': 131,\n",
              " 'targets': 131,\n",
              " 'various': 131,\n",
              " 'along': 130,\n",
              " 'asp65': 130,\n",
              " 'defined': 130,\n",
              " 'part': 130,\n",
              " 'products': 130,\n",
              " 'sensitivity': 130,\n",
              " 'assess': 129,\n",
              " 'developed': 129,\n",
              " 'direct': 129,\n",
              " 'end': 129,\n",
              " 'http': 129,\n",
              " 'major': 129,\n",
              " 'presented': 129,\n",
              " 'reduction': 129,\n",
              " 'research': 129,\n",
              " 'akt': 128,\n",
              " 'clamp': 128,\n",
              " 'gtpase': 128,\n",
              " 'labeled': 128,\n",
              " 'nature': 128,\n",
              " 'use': 128,\n",
              " 'defects': 127,\n",
              " 'kras': 127,\n",
              " 'msse': 127,\n",
              " 'process': 127,\n",
              " 'transformation': 127,\n",
              " 'transforming': 127,\n",
              " '2003': 126,\n",
              " 'chromosomal': 126,\n",
              " 'culture': 126,\n",
              " 'lack': 126,\n",
              " 'linker': 126,\n",
              " 'mds': 126,\n",
              " 'nucleus': 126,\n",
              " 'online': 126,\n",
              " 'prostate': 126,\n",
              " 'university': 126,\n",
              " '45': 125,\n",
              " 'frameshift': 125,\n",
              " 'indeed': 125,\n",
              " 'isolated': 125,\n",
              " 'ph': 125,\n",
              " 'prevalence': 125,\n",
              " 'side': 125,\n",
              " 'subset': 125,\n",
              " 'telomere': 125,\n",
              " 'familial': 124,\n",
              " 'identification': 124,\n",
              " 'materials': 124,\n",
              " 'alone': 123,\n",
              " 'fraction': 123,\n",
              " 'hct116': 123,\n",
              " 'mpn': 123,\n",
              " 'specifically': 123,\n",
              " 'sporadic': 123,\n",
              " '39': 122,\n",
              " '44': 122,\n",
              " 'cdk2': 122,\n",
              " 'differentiation': 122,\n",
              " 'enzyme': 122,\n",
              " 'mg': 122,\n",
              " 'open': 122,\n",
              " 'ratio': 122,\n",
              " 'shows': 122,\n",
              " 'transition': 122,\n",
              " '01': 121,\n",
              " 'carried': 121,\n",
              " 'hours': 121,\n",
              " 'rb': 121,\n",
              " 'remaining': 121,\n",
              " 'stable': 121,\n",
              " 'testing': 121,\n",
              " '58': 120,\n",
              " 'metastasis': 120,\n",
              " 'screening': 120,\n",
              " 'strong': 120,\n",
              " 'thyroid': 120,\n",
              " '2005': 119,\n",
              " 'amplified': 119,\n",
              " 'long': 119,\n",
              " 'myc': 119,\n",
              " 'phosphate': 119,\n",
              " 'short': 119,\n",
              " '2000': 118,\n",
              " 'average': 118,\n",
              " 'codon': 118,\n",
              " 'contribution': 118,\n",
              " 'homophilic': 118,\n",
              " 'medium': 118,\n",
              " 'prediction': 118,\n",
              " 'statistical': 118,\n",
              " 'strand': 118,\n",
              " '2b': 117,\n",
              " '70': 117,\n",
              " '80': 117,\n",
              " 'assessed': 117,\n",
              " 'cohort': 117,\n",
              " 'hnscc': 117,\n",
              " 'initial': 117,\n",
              " 'page': 117,\n",
              " 'pten': 117,\n",
              " '42': 116,\n",
              " 'gel': 116,\n",
              " 'hnpcc': 116,\n",
              " 'intermediate': 116,\n",
              " 'loeys': 116,\n",
              " 'percentage': 116,\n",
              " 'purified': 116,\n",
              " 'truncated': 116,\n",
              " '2010': 115,\n",
              " '2011': 115,\n",
              " '3b': 115,\n",
              " '46': 115,\n",
              " '5p': 115,\n",
              " 'de': 115,\n",
              " 'deficient': 115,\n",
              " 'download': 115,\n",
              " 'flag': 115,\n",
              " 'left': 115,\n",
              " 'loop': 115,\n",
              " 'nmd': 115,\n",
              " '43': 114,\n",
              " 'lynch': 114,\n",
              " 'activate': 113,\n",
              " 'hela': 113,\n",
              " 'intracellular': 113,\n",
              " 'possibility': 113,\n",
              " 'range': 113,\n",
              " 'reverse': 113,\n",
              " 'squamous': 113,\n",
              " '4a': 112,\n",
              " '5b': 112,\n",
              " 'followed': 112,\n",
              " 'history': 112,\n",
              " 'led': 112,\n",
              " 'mutagenesis': 112,\n",
              " 'primer': 112,\n",
              " 'relevant': 112,\n",
              " 'third': 112,\n",
              " 'conformational': 111,\n",
              " 'cre': 111,\n",
              " 'despite': 111,\n",
              " 'heterozygosity': 111,\n",
              " 'internalization': 111,\n",
              " 'life': 111,\n",
              " 'null': 111,\n",
              " 'pathogenicity': 111,\n",
              " 'proposed': 111,\n",
              " 'seven': 111,\n",
              " 'unique': 111,\n",
              " 'il': 110,\n",
              " 'powerpoint': 110,\n",
              " 'promote': 110,\n",
              " 'tcf3': 110,\n",
              " 'washed': 110,\n",
              " 'acquired': 109,\n",
              " 'finally': 109,\n",
              " 'immunoblotting': 109,\n",
              " 'linked': 109,\n",
              " 'pairs': 109,\n",
              " 'phosphatases': 109,\n",
              " 'pms2': 109,\n",
              " 'rather': 109,\n",
              " 'recombinant': 109,\n",
              " 'secondary': 109,\n",
              " 'splice': 109,\n",
              " 'unfolding': 109,\n",
              " '2002': 108,\n",
              " 'alter': 108,\n",
              " 'cytoplasmic': 108,\n",
              " 'decrease': 108,\n",
              " 'failed': 108,\n",
              " 'g1': 108,\n",
              " 'gfp': 108,\n",
              " 'molecule': 108,\n",
              " '5a': 107,\n",
              " 'csf': 107,\n",
              " 'investigated': 107,\n",
              " 'leading': 107,\n",
              " 'nonsense': 107,\n",
              " 'report': 107,\n",
              " 'times': 107,\n",
              " '95': 106,\n",
              " 'apoptosis': 106,\n",
              " 'half': 106,\n",
              " 'kb': 106,\n",
              " 'let': 106,\n",
              " 'position': 106,\n",
              " 'rabbit': 106,\n",
              " 'approximately': 105,\n",
              " 'contribute': 105,\n",
              " 'critical': 105,\n",
              " 'note': 105,\n",
              " 'substitutions': 105,\n",
              " 'transduction': 105,\n",
              " 'abnormal': 104,\n",
              " 'binds': 104,\n",
              " 'densitometry': 104,\n",
              " 'gastric': 104,\n",
              " 'recombination': 104,\n",
              " 'right': 104,\n",
              " 'sift': 104,\n",
              " 'water': 104,\n",
              " 'brca2': 103,\n",
              " 'clone': 103,\n",
              " 'inactive': 103,\n",
              " 'kd': 103,\n",
              " 'rt': 103,\n",
              " 'snu': 103,\n",
              " 'substrates': 103,\n",
              " 'tables': 103,\n",
              " '1998': 102,\n",
              " 'combination': 102,\n",
              " 'inhibited': 102,\n",
              " 'method': 102,\n",
              " 'order': 102,\n",
              " 'polyphen': 102,\n",
              " 'responsible': 102,\n",
              " 'transcripts': 102,\n",
              " '001': 101,\n",
              " 'established': 101,\n",
              " 'gst': 101,\n",
              " 'healthy': 101,\n",
              " 'hypothesis': 101,\n",
              " 'repeat': 101,\n",
              " 'sd': 101,\n",
              " 'sequenced': 101,\n",
              " 'standard': 101,\n",
              " 'subsequent': 101,\n",
              " 'tract': 101,\n",
              " 'approach': 100,\n",
              " 'cblwt': 100,\n",
              " 'double': 100,\n",
              " 'erk': 100,\n",
              " 'event': 100,\n",
              " 'gain': 100,\n",
              " 'minutes': 100,\n",
              " 'peripheral': 100,\n",
              " 'susceptibility': 100,\n",
              " 'amounts': 99,\n",
              " 'biochemical': 99,\n",
              " 'computational': 99,\n",
              " 'constitutional': 99,\n",
              " 'dissociation': 99,\n",
              " 'frequent': 99,\n",
              " 'heterodimer': 99,\n",
              " 'locus': 99,\n",
              " 'published': 99,\n",
              " 'ice': 98,\n",
              " 'larger': 98,\n",
              " 'rates': 98,\n",
              " 'tsc2': 98,\n",
              " 'assembly': 97,\n",
              " 'bladder': 97,\n",
              " 'ihc': 97,\n",
              " 'key': 97,\n",
              " 'processing': 97,\n",
              " 'regulatory': 97,\n",
              " 'relatively': 97,\n",
              " 'selection': 97,\n",
              " 'series': 97,\n",
              " 'thr': 97,\n",
              " '1994': 96,\n",
              " '1996': 96,\n",
              " 'difference': 96,\n",
              " 'membrane': 96,\n",
              " 'percent': 96,\n",
              " 'prognosis': 96,\n",
              " 'similarly': 96,\n",
              " 'starved': 96,\n",
              " 'clear': 95,\n",
              " 'conformation': 95,\n",
              " 'deficiency': 95,\n",
              " 'dietz': 95,\n",
              " 'finding': 95,\n",
              " 'gi': 95,\n",
              " 'hand': 95,\n",
              " 'malignancies': 95,\n",
              " 'observations': 95,\n",
              " 'overnight': 95,\n",
              " 'plasmid': 95,\n",
              " 'ubiquitylation': 95,\n",
              " 'vs': 95,\n",
              " '62': 94,\n",
              " 'displayed': 94,\n",
              " 'experimentally': 94,\n",
              " 'gap': 94,\n",
              " 'green': 94,\n",
              " 'none': 94,\n",
              " 'onset': 94,\n",
              " 'product': 94,\n",
              " 'activities': 93,\n",
              " 'assigned': 93,\n",
              " 'benign': 93,\n",
              " 'forms': 93,\n",
              " 'mdm2': 93,\n",
              " 'occurred': 93,\n",
              " 'top': 93,\n",
              " '63': 92,\n",
              " 'cyclins': 92,\n",
              " 'detailed': 92,\n",
              " 'manufacturer': 92,\n",
              " 'necessary': 92,\n",
              " 'often': 92,\n",
              " 'tris': 92,\n",
              " '90': 91,\n",
              " 'band': 91,\n",
              " 'blot': 91,\n",
              " 'cdkn2a': 91,\n",
              " 'importantly': 91,\n",
              " 'induce': 91,\n",
              " 'lost': 91,\n",
              " 'subsequently': 91,\n",
              " 'yeast': 91,\n",
              " '200': 90,\n",
              " '56': 90,\n",
              " 'aberrant': 90,\n",
              " 'added': 90,\n",
              " 'array': 90,\n",
              " 'candidate': 90,\n",
              " 'elevated': 90,\n",
              " 'intensity': 90,\n",
              " 'mpns': 90,\n",
              " 'occurs': 90,\n",
              " 'particular': 90,\n",
              " 'probe': 90,\n",
              " 'sensitive': 90,\n",
              " 'software': 90,\n",
              " 'support': 90,\n",
              " 'temperature': 90,\n",
              " 'almost': 89,\n",
              " ...}"
            ]
          },
          "metadata": {
            "tags": []
          },
          "execution_count": 54
        }
      ]
    },
    {
      "cell_type": "code",
      "metadata": {
        "id": "yIoKqFDJTmHB",
        "colab": {
          "base_uri": "https://localhost:8080/"
        },
        "outputId": "c6d15b03-d164-48cb-d806-3fcc0b975c28"
      },
      "source": [
        "from collections import Counter\r\n",
        "print(Counter(sorted_text_occur))"
      ],
      "execution_count": 55,
      "outputs": [
        {
          "output_type": "stream",
          "text": [
            "Counter({3: 868, 4: 776, 5: 536, 6: 520, 7: 360, 9: 318, 8: 309, 10: 224, 11: 215, 12: 194, 14: 170, 13: 170, 15: 147, 16: 145, 18: 129, 17: 116, 19: 110, 20: 102, 21: 100, 22: 92, 24: 89, 23: 88, 26: 78, 27: 75, 29: 64, 25: 57, 35: 54, 33: 52, 30: 51, 28: 50, 37: 44, 31: 44, 32: 42, 42: 41, 40: 40, 36: 39, 47: 36, 38: 36, 60: 35, 39: 34, 45: 32, 44: 31, 34: 31, 43: 30, 49: 29, 46: 29, 64: 28, 41: 28, 48: 27, 56: 26, 53: 26, 50: 26, 69: 23, 55: 23, 51: 23, 54: 21, 52: 21, 67: 20, 62: 20, 59: 20, 73: 19, 72: 19, 66: 19, 79: 18, 57: 18, 76: 17, 71: 17, 63: 17, 61: 17, 90: 16, 85: 16, 70: 16, 86: 15, 81: 15, 77: 15, 74: 15, 65: 15, 58: 15, 89: 14, 78: 14, 95: 13, 84: 13, 83: 13, 115: 12, 109: 12, 88: 12, 80: 12, 111: 11, 101: 11, 133: 10, 126: 10, 122: 10, 97: 10, 82: 10, 129: 9, 125: 9, 118: 9, 117: 9, 112: 9, 100: 9, 99: 9, 91: 9, 136: 8, 131: 8, 116: 8, 108: 8, 104: 8, 103: 8, 102: 8, 96: 8, 94: 8, 87: 8, 68: 8, 189: 7, 121: 7, 113: 7, 107: 7, 106: 7, 93: 7, 92: 7, 75: 7, 312: 6, 184: 6, 171: 6, 156: 6, 147: 6, 143: 6, 141: 6, 130: 6, 128: 6, 127: 6, 123: 6, 119: 6, 105: 6, 288: 5, 268: 5, 192: 5, 176: 5, 174: 5, 169: 5, 167: 5, 166: 5, 164: 5, 161: 5, 155: 5, 152: 5, 138: 5, 120: 5, 110: 5, 405: 4, 387: 4, 377: 4, 257: 4, 233: 4, 227: 4, 218: 4, 213: 4, 211: 4, 208: 4, 205: 4, 203: 4, 197: 4, 195: 4, 193: 4, 190: 4, 181: 4, 175: 4, 160: 4, 159: 4, 158: 4, 153: 4, 149: 4, 145: 4, 140: 4, 139: 4, 135: 4, 134: 4, 132: 4, 98: 4, 422: 3, 403: 3, 348: 3, 347: 3, 342: 3, 341: 3, 297: 3, 295: 3, 275: 3, 270: 3, 259: 3, 253: 3, 252: 3, 234: 3, 231: 3, 214: 3, 209: 3, 207: 3, 196: 3, 194: 3, 191: 3, 188: 3, 186: 3, 185: 3, 163: 3, 151: 3, 146: 3, 124: 3, 774: 2, 599: 2, 566: 2, 541: 2, 526: 2, 521: 2, 504: 2, 483: 2, 471: 2, 443: 2, 433: 2, 431: 2, 423: 2, 414: 2, 406: 2, 395: 2, 375: 2, 372: 2, 363: 2, 359: 2, 353: 2, 338: 2, 327: 2, 323: 2, 318: 2, 310: 2, 302: 2, 299: 2, 291: 2, 285: 2, 279: 2, 276: 2, 269: 2, 267: 2, 266: 2, 263: 2, 262: 2, 256: 2, 255: 2, 251: 2, 250: 2, 248: 2, 246: 2, 245: 2, 244: 2, 241: 2, 232: 2, 229: 2, 221: 2, 217: 2, 215: 2, 210: 2, 204: 2, 202: 2, 201: 2, 187: 2, 182: 2, 178: 2, 172: 2, 170: 2, 165: 2, 162: 2, 157: 2, 154: 2, 150: 2, 142: 2, 114: 2, 5579: 1, 3814: 1, 3596: 1, 3534: 1, 2536: 1, 2429: 1, 2408: 1, 2387: 1, 2242: 1, 1991: 1, 1935: 1, 1834: 1, 1677: 1, 1559: 1, 1554: 1, 1463: 1, 1427: 1, 1401: 1, 1396: 1, 1349: 1, 1346: 1, 1288: 1, 1258: 1, 1251: 1, 1246: 1, 1243: 1, 1240: 1, 1231: 1, 1225: 1, 1222: 1, 1216: 1, 1203: 1, 1164: 1, 1103: 1, 1069: 1, 1035: 1, 1021: 1, 980: 1, 975: 1, 968: 1, 956: 1, 912: 1, 892: 1, 887: 1, 886: 1, 884: 1, 873: 1, 851: 1, 850: 1, 821: 1, 815: 1, 814: 1, 802: 1, 798: 1, 794: 1, 758: 1, 754: 1, 753: 1, 749: 1, 712: 1, 693: 1, 681: 1, 674: 1, 672: 1, 671: 1, 670: 1, 665: 1, 662: 1, 660: 1, 656: 1, 644: 1, 636: 1, 635: 1, 631: 1, 622: 1, 613: 1, 606: 1, 601: 1, 596: 1, 593: 1, 581: 1, 576: 1, 575: 1, 573: 1, 572: 1, 571: 1, 556: 1, 553: 1, 548: 1, 542: 1, 527: 1, 525: 1, 524: 1, 523: 1, 520: 1, 518: 1, 515: 1, 512: 1, 510: 1, 508: 1, 499: 1, 488: 1, 485: 1, 484: 1, 482: 1, 474: 1, 466: 1, 460: 1, 459: 1, 457: 1, 450: 1, 449: 1, 441: 1, 434: 1, 426: 1, 421: 1, 418: 1, 415: 1, 413: 1, 410: 1, 404: 1, 402: 1, 397: 1, 396: 1, 393: 1, 389: 1, 388: 1, 385: 1, 381: 1, 380: 1, 379: 1, 378: 1, 376: 1, 373: 1, 367: 1, 366: 1, 364: 1, 356: 1, 354: 1, 352: 1, 349: 1, 346: 1, 344: 1, 340: 1, 339: 1, 336: 1, 335: 1, 334: 1, 332: 1, 331: 1, 324: 1, 322: 1, 320: 1, 319: 1, 317: 1, 314: 1, 309: 1, 308: 1, 306: 1, 305: 1, 304: 1, 303: 1, 301: 1, 300: 1, 298: 1, 292: 1, 289: 1, 284: 1, 283: 1, 282: 1, 280: 1, 277: 1, 274: 1, 273: 1, 272: 1, 265: 1, 261: 1, 260: 1, 258: 1, 254: 1, 249: 1, 247: 1, 243: 1, 237: 1, 236: 1, 235: 1, 228: 1, 225: 1, 224: 1, 223: 1, 220: 1, 212: 1, 206: 1, 200: 1, 199: 1, 198: 1, 183: 1, 177: 1, 168: 1, 144: 1})\n"
          ],
          "name": "stdout"
        }
      ]
    },
    {
      "cell_type": "code",
      "metadata": {
        "id": "Wo2cLt6PTmDU",
        "colab": {
          "base_uri": "https://localhost:8080/",
          "height": 737
        },
        "outputId": "a5092039-813c-420e-9cf1-e362408d7e4c"
      },
      "source": [
        "alpha=[10**x for x in range(-5,1)]\r\n",
        "\r\n",
        "cv_log_error_array=[]\r\n",
        "for i in alpha:\r\n",
        "  clf=SGDClassifier(alpha=i,penalty='l2',loss='log',random_state=42)\r\n",
        "  clf.fit(train_text_onehot,y_train_cv)\r\n",
        "\r\n",
        "  sig_clf=CalibratedClassifierCV(clf,method=\"sigmoid\")\r\n",
        "  sig_clf.fit(train_text_onehot,y_train_cv)\r\n",
        "\r\n",
        "  predict_y = sig_clf.predict_proba(cv_text_onehot)\r\n",
        "  cv_log_error_array.append(log_loss(y_cv, predict_y, labels=clf.classes_, eps=1e-15))\r\n",
        "  print('For values of alpha = ', i, \"The log loss is:\",log_loss(y_cv, predict_y, labels=clf.classes_, eps=1e-15))\r\n",
        "\r\n",
        "fig, ax = plt.subplots()\r\n",
        "ax.plot(alpha, cv_log_error_array,c='g')\r\n",
        "for i, txt in enumerate(np.round(cv_log_error_array,3)):\r\n",
        "    ax.annotate((alpha[i],np.round(txt,3)), (alpha[i],cv_log_error_array[i]))\r\n",
        "plt.grid()\r\n",
        "plt.title(\"Cross Validation Error for each alpha\")\r\n",
        "plt.xlabel(\"Alpha i's\")\r\n",
        "plt.ylabel(\"Error measure\")\r\n",
        "plt.show()\r\n",
        "\r\n",
        "\r\n",
        "best_alpha = np.argmin(cv_log_error_array)\r\n",
        "clf = SGDClassifier(alpha=alpha[best_alpha], penalty='l2', loss='log', random_state=42)\r\n",
        "clf.fit(train_text_onehot, y_train_cv)\r\n",
        "sig_clf = CalibratedClassifierCV(clf, method=\"sigmoid\")\r\n",
        "sig_clf.fit(train_text_onehot, y_train_cv)\r\n",
        "\r\n",
        "predict_y = sig_clf.predict_proba(train_text_onehot)\r\n",
        "print('For values of best alpha = ', alpha[best_alpha], \"The train log loss is:\",log_loss(y_train_cv, predict_y, labels=clf.classes_, eps=1e-15))\r\n",
        "predict_y = sig_clf.predict_proba(cv_text_onehot)\r\n",
        "print('For values of best alpha = ', alpha[best_alpha], \"The cross validation log loss is:\",log_loss(y_cv, predict_y, labels=clf.classes_, eps=1e-15))\r\n",
        "predict_y = sig_clf.predict_proba(test_text_onehot)\r\n",
        "print('For values of best alpha = ', alpha[best_alpha], \"The test log loss is:\",log_loss(y_test, predict_y, labels=clf.classes_, eps=1e-15))\r\n",
        "\r\n",
        "sig_clf.fit(train_text_onehot, y_train_cv)\r\n"
      ],
      "execution_count": 56,
      "outputs": [
        {
          "output_type": "stream",
          "text": [
            "For values of alpha =  1e-05 The log loss is: 1.66770070525088\n",
            "For values of alpha =  0.0001 The log loss is: 1.6352489942803343\n",
            "For values of alpha =  0.001 The log loss is: 1.6727560960634562\n",
            "For values of alpha =  0.01 The log loss is: 1.7615855586703166\n",
            "For values of alpha =  0.1 The log loss is: 1.8324854667864623\n",
            "For values of alpha =  1 The log loss is: 1.8333484239116737\n"
          ],
          "name": "stdout"
        },
        {
          "output_type": "display_data",
          "data": {
            "image/png": "[encoded data removed]",
            "text/plain": [
              "<Figure size 432x288 with 1 Axes>"
            ]
          },
          "metadata": {
            "tags": [],
            "needs_background": "light"
          }
        },
        {
          "output_type": "stream",
          "text": [
            "For values of best alpha =  0.0001 The train log loss is: 1.5185111087285974\n",
            "For values of best alpha =  0.0001 The cross validation log loss is: 1.6352489942803343\n",
            "For values of best alpha =  0.0001 The test log loss is: 1.5455406547222723\n"
          ],
          "name": "stdout"
        },
        {
          "output_type": "execute_result",
          "data": {
            "text/plain": [
              "CalibratedClassifierCV(base_estimator=SGDClassifier(alpha=0.0001, average=False,\n",
              "                                                    class_weight=None,\n",
              "                                                    early_stopping=False,\n",
              "                                                    epsilon=0.1, eta0=0.0,\n",
              "                                                    fit_intercept=True,\n",
              "                                                    l1_ratio=0.15,\n",
              "                                                    learning_rate='optimal',\n",
              "                                                    loss='log', max_iter=1000,\n",
              "                                                    n_iter_no_change=5,\n",
              "                                                    n_jobs=None, penalty='l2',\n",
              "                                                    power_t=0.5,\n",
              "                                                    random_state=42,\n",
              "                                                    shuffle=True, tol=0.001,\n",
              "                                                    validation_fraction=0.1,\n",
              "                                                    verbose=0,\n",
              "                                                    warm_start=False),\n",
              "                       cv=None, method='sigmoid')"
            ]
          },
          "metadata": {
            "tags": []
          },
          "execution_count": 56
        }
      ]
    },
    {
      "cell_type": "code",
      "metadata": {
        "id": "5P23mWiSbFqf"
      },
      "source": [
        "def get_intersec_text(df):\r\n",
        "  df_text_vec=CountVectorizer(min_df=3)\r\n",
        "  df_text_fea=df_text_vec.fit_transform(df['Text'])\r\n",
        "  df_text_features=df_text_vec.get_feature_names()\r\n",
        "\r\n",
        "  df_text_fea_counts=df_text_fea.sum(axis=0).A1\r\n",
        "  df_text_fea_dict=dict(zip(list(df_text_features),df_text_fea_counts))\r\n",
        "  len1=len(set(df_text_features))\r\n",
        "  len2 = len(set(train_text_features) & set(df_text_features))\r\n",
        "  return len1,len2"
      ],
      "execution_count": 57,
      "outputs": []
    },
    {
      "cell_type": "code",
      "metadata": {
        "id": "-2Vmus2JbFn-",
        "colab": {
          "base_uri": "https://localhost:8080/"
        },
        "outputId": "7de350e3-c058-40d5-bb2b-d12b62dd0b9e"
      },
      "source": [
        "len1,len2 = get_intersec_text(X_test)\r\n",
        "print(np.round((len2/len1)*100, 3), \"% of word of test data appeared in train data\")\r\n",
        "len1,len2 = get_intersec_text(X_test_cv)\r\n",
        "print(np.round((len2/len1)*100, 3), \"% of word of Cross Validation appeared in train data\")"
      ],
      "execution_count": 58,
      "outputs": [
        {
          "output_type": "stream",
          "text": [
            "99.639 % of word of test data appeared in train data\n",
            "97.623 % of word of Cross Validation appeared in train data\n"
          ],
          "name": "stdout"
        }
      ]
    },
    {
      "cell_type": "markdown",
      "metadata": {
        "id": "EORIm9_Yduud"
      },
      "source": [
        "Machine Learning Models"
      ]
    },
    {
      "cell_type": "code",
      "metadata": {
        "id": "0N8-xOVVbFcP"
      },
      "source": [
        "def predict_and_plot_confusion_matrix(train_x, train_y,test_x, test_y, clf):\r\n",
        "    clf.fit(train_x, train_y)\r\n",
        "    sig_clf = CalibratedClassifierCV(clf, method=\"sigmoid\")\r\n",
        "    sig_clf.fit(train_x, train_y)\r\n",
        "    pred_y = sig_clf.predict(test_x)\r\n",
        "\r\n",
        "    # for calculating log_loss we willl provide the array of probabilities belongs to each class\r\n",
        "    print(\"Log loss :\",log_loss(test_y, sig_clf.predict_proba(test_x)))\r\n",
        "    # calculating the number of data points that are misclassified\r\n",
        "    print(\"Number of mis-classified points :\", np.count_nonzero((pred_y- test_y))/test_y.shape[0])\r\n",
        "    plot_confusion_matrix(test_y, pred_y)"
      ],
      "execution_count": 59,
      "outputs": []
    },
    {
      "cell_type": "code",
      "metadata": {
        "id": "2DTpP5FcbFYW"
      },
      "source": [
        "def report_log_loss(train_x, train_y, test_x, test_y,  clf):\r\n",
        "    clf.fit(train_x, train_y)\r\n",
        "    sig_clf = CalibratedClassifierCV(clf, method=\"sigmoid\")\r\n",
        "    sig_clf.fit(train_x, train_y)\r\n",
        "    sig_clf_probs = sig_clf.predict_proba(test_x)\r\n",
        "    return log_loss(test_y, sig_clf_probs, eps=1e-15)"
      ],
      "execution_count": 60,
      "outputs": []
    },
    {
      "cell_type": "code",
      "metadata": {
        "id": "RhFV-q-IPDFP"
      },
      "source": [
        "# function will be used just for naive bayes\r\n",
        "#  given indices, we will print the name of the features\r\n",
        "# and we will check whether the feature present in the test point text or not\r\n",
        "\r\n",
        "def get_impfeature_names(indices,text,gene,var,no_features):\r\n",
        "  gene_count_vec=CountVectorizer()\r\n",
        "  var_count_vec=CountVectorizer()\r\n",
        "  text_count_vec=CountVectorizer(min_df=3)\r\n",
        "\r\n",
        "  gene_vec=gene_count_vec.fit(X_train_cv['Gene'])\r\n",
        "  var_vec=var_count_vec.fit(X_train_cv['Variation'])\r\n",
        "  text_vec=text_count_vec.fit(X_train_cv['Text'])\r\n",
        "\r\n",
        "  fea1_len=len(gene_vec.get_feature_names())\r\n",
        "  fea2_len=len(var_count_vec.get_feature_names())\r\n",
        "\r\n",
        "  word_present=0\r\n",
        "  for i,v in enumerate(indices):\r\n",
        "    if (v<fea1_len):\r\n",
        "      word=gene_vec.get_feature_names()[v]\r\n",
        "      yes_no=True if word==gene else False\r\n",
        "      if yes_no:\r\n",
        "        word_present+=1\r\n",
        "        print(i,\"Gene feature [{}] present in test data point [{}]\".format(word,yes_no))\r\n",
        "\r\n",
        "    elif (v<fea1_len+fea2_len):\r\n",
        "      word=var_vec.get_feature_names()[v-(fea1_len)]\r\n",
        "      yes_no=True if word ==var else False\r\n",
        "      if yes_no:\r\n",
        "        word_present+=1\r\n",
        "        print(i,\"variation feature [{}] present in test data points [{}]\".format(word,yes_no))\r\n",
        "\r\n",
        "    else:\r\n",
        "            word = text_vec.get_feature_names()[v-(fea1_len+fea2_len)]\r\n",
        "            yes_no = True if word in text.split() else False\r\n",
        "            if yes_no:\r\n",
        "                word_present += 1\r\n",
        "                print(i, \"Text feature [{}] present in test data point [{}]\".format(word,yes_no))\r\n",
        "\r\n",
        "    print(\"Out of the top \",no_features,\" features \", word_present, \"are present in query point\")   "
      ],
      "execution_count": 87,
      "outputs": []
    },
    {
      "cell_type": "code",
      "metadata": {
        "colab": {
          "base_uri": "https://localhost:8080/"
        },
        "id": "5YwVv-tIeo7b",
        "outputId": "9f6a7d1a-f77a-467e-90cc-96cfc1474fa5"
      },
      "source": [
        "!pip install scipy"
      ],
      "execution_count": 88,
      "outputs": [
        {
          "output_type": "stream",
          "text": [
            "Requirement already satisfied: scipy in /usr/local/lib/python3.6/dist-packages (1.4.1)\n",
            "Requirement already satisfied: numpy>=1.13.3 in /usr/local/lib/python3.6/dist-packages (from scipy) (1.19.4)\n"
          ],
          "name": "stdout"
        }
      ]
    },
    {
      "cell_type": "code",
      "metadata": {
        "id": "b_u-QTtnUOpF"
      },
      "source": [
        "# merging gene, variance and text features\r\n",
        "\r\n",
        "# building train, test and cross validation data sets\r\n",
        "# a = [[1, 2], \r\n",
        "#      [3, 4]]\r\n",
        "# b = [[4, 5], \r\n",
        "#      [6, 7]]\r\n",
        "# hstack(a, b) = [[1, 2, 4, 5],\r\n",
        "#                [ 3, 4, 6, 7]]\r\n",
        "#import scipy.sparse.csr_matrix\r\n",
        "from scipy.sparse import hstack\r\n",
        "train_gene_var_onehotCoding = hstack((train_gene_onehot,train_variation_onehot))\r\n",
        "test_gene_var_onehotCoding = hstack((test_gene_onehot,test_variation_onehot))\r\n",
        "cv_gene_var_onehotCoding = hstack((cv_gene_onehot,cv_variation_onehot))\r\n",
        "\r\n",
        "train_x_onehotCoding = hstack((train_gene_var_onehotCoding, train_text_onehot)).tocsr()\r\n",
        "train_y = np.array(list(X_train_cv['Class']))\r\n",
        "\r\n",
        "test_x_onehotCoding = hstack((test_gene_var_onehotCoding, test_text_onehot)).tocsr()\r\n",
        "test_y = np.array(list(X_test['Class']))\r\n",
        "\r\n",
        "cv_x_onehotCoding = hstack((cv_gene_var_onehotCoding, cv_text_onehot)).tocsr()\r\n",
        "cv_y = np.array(list(X_test_cv['Class']))\r\n",
        "\r\n",
        "\r\n"
      ],
      "execution_count": 89,
      "outputs": []
    },
    {
      "cell_type": "code",
      "metadata": {
        "colab": {
          "base_uri": "https://localhost:8080/"
        },
        "id": "tfxjL4tsV_7y",
        "outputId": "08958d9c-29c7-43bd-9764-8d3d04080b5c"
      },
      "source": [
        "print(\"One hot encoding features :\")\r\n",
        "print(\"(number of data points * number of features) in train data = \", train_x_onehotCoding.shape)\r\n",
        "print(\"(number of data points * number of features) in test data = \", test_x_onehotCoding.shape)\r\n",
        "print(\"(number of data points * number of features) in cross validation data =\", cv_x_onehotCoding.shape)"
      ],
      "execution_count": 90,
      "outputs": [
        {
          "output_type": "stream",
          "text": [
            "One hot encoding features :\n",
            "(number of data points * number of features) in train data =  (2124, 10753)\n",
            "(number of data points * number of features) in test data =  (665, 10753)\n",
            "(number of data points * number of features) in cross validation data = (532, 10753)\n"
          ],
          "name": "stdout"
        }
      ]
    },
    {
      "cell_type": "markdown",
      "metadata": {
        "id": "DX9S03pniPti"
      },
      "source": [
        "Base Line Model"
      ]
    },
    {
      "cell_type": "markdown",
      "metadata": {
        "id": "dtKcxQpViTin"
      },
      "source": [
        "<h3>Naive Bayes</h3>"
      ]
    },
    {
      "cell_type": "code",
      "metadata": {
        "colab": {
          "base_uri": "https://localhost:8080/",
          "height": 618
        },
        "id": "iZwWKMjcXHGz",
        "outputId": "c6edbf3f-2557-49f0-fb49-c23a2d792544"
      },
      "source": [
        "from sklearn.naive_bayes import MultinomialNB\r\n",
        "alpha=[0.00001,0.0001,0.001,0.1,1,10,100,1000]\r\n",
        "cv_log_error_array=[]\r\n",
        "for i in alpha:\r\n",
        "  print(\"for alpha=\",i)\r\n",
        "  clf=MultinomialNB(alpha=i)\r\n",
        "  clf.fit(train_x_onehotCoding,train_y)\r\n",
        "  sig_clf=CalibratedClassifierCV(clf,method=\"sigmoid\")\r\n",
        "  sig_clf.fit(train_x_onehotCoding,train_y)\r\n",
        "  sig_clf_probs=sig_clf.predict_proba(cv_x_onehotCoding)\r\n",
        "  cv_log_error_array.append(log_loss(cv_y,sig_clf_probs,labels=clf.classes_,eps=1e-15))\r\n",
        "  # to avoid rounding error while multiplying probabilites we use log-probability estimates\r\n",
        "  print(\"Log Loss :\",log_loss(cv_y, sig_clf_probs)) \r\n",
        "fig, ax = plt.subplots()\r\n",
        "ax.plot(np.log10(alpha), cv_log_error_array,c='g')\r\n",
        "for i, txt in enumerate(np.round(cv_log_error_array,3)):\r\n",
        "    ax.annotate((alpha[i],str(txt)), (np.log10(alpha[i]),cv_log_error_array[i]))\r\n",
        "plt.grid()\r\n",
        "plt.xticks(np.log10(alpha))\r\n",
        "plt.title(\"Cross Validation Error for each alpha\")\r\n",
        "plt.xlabel(\"Alpha i's\")\r\n",
        "plt.ylabel(\"Error measure\")\r\n",
        "plt.show()\r\n",
        "\r\n",
        "\r\n",
        "best_alpha = np.argmin(cv_log_error_array)\r\n",
        "clf = MultinomialNB(alpha=alpha[best_alpha])\r\n",
        "clf.fit(train_x_onehotCoding, train_y)\r\n",
        "sig_clf = CalibratedClassifierCV(clf, method=\"sigmoid\")\r\n",
        "sig_clf.fit(train_x_onehotCoding, train_y)\r\n",
        "\r\n",
        "\r\n",
        "predict_y = sig_clf.predict_proba(train_x_onehotCoding)\r\n",
        "print('For values of best alpha = ', alpha[best_alpha], \"The train log loss is:\",log_loss(y_train_cv, predict_y, labels=clf.classes_, eps=1e-15))\r\n",
        "predict_y = sig_clf.predict_proba(cv_x_onehotCoding)\r\n",
        "print('For values of best alpha = ', alpha[best_alpha], \"The cross validation log loss is:\",log_loss(y_cv, predict_y, labels=clf.classes_, eps=1e-15))\r\n",
        "predict_y = sig_clf.predict_proba(test_x_onehotCoding)\r\n",
        "print('For values of best alpha = ', alpha[best_alpha], \"The test log loss is:\",log_loss(y_test, predict_y, labels=clf.classes_, eps=1e-15))\r\n"
      ],
      "execution_count": 91,
      "outputs": [
        {
          "output_type": "stream",
          "text": [
            "for alpha= 1e-05\n",
            "Log Loss : 1.4391865006204605\n",
            "for alpha= 0.0001\n",
            "Log Loss : 1.4350861291716703\n",
            "for alpha= 0.001\n",
            "Log Loss : 1.4191348396457368\n",
            "for alpha= 0.1\n",
            "Log Loss : 1.2938232785883752\n",
            "for alpha= 1\n",
            "Log Loss : 1.2293117350549125\n",
            "for alpha= 10\n",
            "Log Loss : 1.2973593468790559\n",
            "for alpha= 100\n",
            "Log Loss : 1.391318132967686\n",
            "for alpha= 1000\n",
            "Log Loss : 1.387174709724163\n"
          ],
          "name": "stdout"
        },
        {
          "output_type": "display_data",
          "data": {
            "image/png": "[encoded data removed]",
            "text/plain": [
              "<Figure size 432x288 with 1 Axes>"
            ]
          },
          "metadata": {
            "tags": [],
            "needs_background": "light"
          }
        },
        {
          "output_type": "stream",
          "text": [
            "For values of best alpha =  1 The train log loss is: 0.7572262547738006\n",
            "For values of best alpha =  1 The cross validation log loss is: 1.2293117350549125\n",
            "For values of best alpha =  1 The test log loss is: 1.2408032561873985\n"
          ],
          "name": "stdout"
        }
      ]
    },
    {
      "cell_type": "markdown",
      "metadata": {
        "id": "7UgGl9Wwk5pI"
      },
      "source": [
        "<h4>4.1.1.2. Testing the model with best hyper paramters</h4>"
      ]
    },
    {
      "cell_type": "code",
      "metadata": {
        "colab": {
          "base_uri": "https://localhost:8080/",
          "height": 1000
        },
        "id": "uUXsGaoZk84i",
        "outputId": "24c9acfd-2765-4fab-efee-fe4711e8ca9d"
      },
      "source": [
        "clf = MultinomialNB(alpha=alpha[best_alpha])\r\n",
        "clf.fit(train_x_onehotCoding, train_y)\r\n",
        "sig_clf = CalibratedClassifierCV(clf, method=\"sigmoid\")\r\n",
        "sig_clf.fit(train_x_onehotCoding, train_y)\r\n",
        "sig_clf_probs = sig_clf.predict_proba(cv_x_onehotCoding)\r\n",
        "# to avoid rounding error while multiplying probabilites we use log-probability estimates\r\n",
        "print(\"Log Loss :\",log_loss(cv_y, sig_clf_probs))\r\n",
        "print(\"Number of missclassified point :\", np.count_nonzero((sig_clf.predict(cv_x_onehotCoding)- cv_y))/cv_y.shape[0])\r\n",
        "plot_confusion_matrix(cv_y, sig_clf.predict(cv_x_onehotCoding.toarray()))"
      ],
      "execution_count": 92,
      "outputs": [
        {
          "output_type": "stream",
          "text": [
            "Log Loss : 1.2293117350549125\n",
            "Number of missclassified point : 0.42857142857142855\n",
            "-------------------- Confusion matrix --------------------\n"
          ],
          "name": "stdout"
        },
        {
          "output_type": "stream",
          "text": [
            "/usr/local/lib/python3.6/dist-packages/ipykernel_launcher.py:4: RuntimeWarning: invalid value encountered in true_divide\n",
            "  after removing the cwd from sys.path.\n"
          ],
          "name": "stderr"
        },
        {
          "output_type": "display_data",
          "data": {
            "image/png": "[encoded data removed]",
            "text/plain": [
              "<Figure size 1440x504 with 2 Axes>"
            ]
          },
          "metadata": {
            "tags": [],
            "needs_background": "light"
          }
        },
        {
          "output_type": "stream",
          "text": [
            "-------------------- Precision matrix (Columm Sum=1) --------------------\n"
          ],
          "name": "stdout"
        },
        {
          "output_type": "display_data",
          "data": {
            "image/png": "[encoded data removed]",
            "text/plain": [
              "<Figure size 1440x504 with 2 Axes>"
            ]
          },
          "metadata": {
            "tags": [],
            "needs_background": "light"
          }
        },
        {
          "output_type": "stream",
          "text": [
            "-------------------- Recall matrix (Row sum=1) --------------------\n"
          ],
          "name": "stdout"
        },
        {
          "output_type": "display_data",
          "data": {
            "image/png": "[encoded data removed]",
            "text/plain": [
              "<Figure size 1440x504 with 2 Axes>"
            ]
          },
          "metadata": {
            "tags": [],
            "needs_background": "light"
          }
        }
      ]
    },
    {
      "cell_type": "markdown",
      "metadata": {
        "id": "f5NS3_NHlWSV"
      },
      "source": [
        "<h4>4.1.1.3. Feature Importance, Correctly classified point</h4>"
      ]
    },
    {
      "cell_type": "code",
      "metadata": {
        "colab": {
          "base_uri": "https://localhost:8080/"
        },
        "id": "tOzZujXZlWy3",
        "outputId": "e13f48e1-f077-4b9d-87e6-e2286a8f6020"
      },
      "source": [
        "test_point_index = 1\r\n",
        "no_feature = 100\r\n",
        "predicted_cls = sig_clf.predict(test_x_onehotCoding[test_point_index])\r\n",
        "print(\"Predicted Class :\", predicted_cls[0])\r\n",
        "print(\"Predicted Class Probabilities:\", np.round(sig_clf.predict_proba(test_x_onehotCoding[test_point_index]),4))\r\n",
        "print(\"Actual Class :\", test_y[test_point_index])\r\n",
        "indices = np.argsort(-clf.coef_)[predicted_cls-1][:,:no_feature]\r\n",
        "print(\"-\"*50)\r\n",
        "get_impfeature_names(indices[0], X_test['Text'].iloc[test_point_index],X_test['Gene'].iloc[test_point_index],X_test['Variation'].iloc[test_point_index], no_feature)"
      ],
      "execution_count": 93,
      "outputs": [
        {
          "output_type": "stream",
          "text": [
            "Predicted Class : 4\n",
            "Predicted Class Probabilities: [[0.0753 0.0364 0.0154 0.777  0.0281 0.0319 0.029  0.0027 0.0041]]\n",
            "Actual Class : 4\n",
            "--------------------------------------------------\n",
            "Out of the top  100  features  0 are present in query point\n",
            "Out of the top  100  features  0 are present in query point\n",
            "Out of the top  100  features  0 are present in query point\n",
            "Out of the top  100  features  0 are present in query point\n",
            "Out of the top  100  features  0 are present in query point\n",
            "Out of the top  100  features  0 are present in query point\n",
            "Out of the top  100  features  0 are present in query point\n",
            "Out of the top  100  features  0 are present in query point\n",
            "Out of the top  100  features  0 are present in query point\n",
            "Out of the top  100  features  0 are present in query point\n",
            "Out of the top  100  features  0 are present in query point\n",
            "Out of the top  100  features  0 are present in query point\n",
            "Out of the top  100  features  0 are present in query point\n",
            "Out of the top  100  features  0 are present in query point\n",
            "Out of the top  100  features  0 are present in query point\n",
            "Out of the top  100  features  0 are present in query point\n",
            "Out of the top  100  features  0 are present in query point\n",
            "Out of the top  100  features  0 are present in query point\n",
            "Out of the top  100  features  0 are present in query point\n",
            "Out of the top  100  features  0 are present in query point\n",
            "Out of the top  100  features  0 are present in query point\n",
            "Out of the top  100  features  0 are present in query point\n",
            "Out of the top  100  features  0 are present in query point\n",
            "Out of the top  100  features  0 are present in query point\n",
            "Out of the top  100  features  0 are present in query point\n",
            "Out of the top  100  features  0 are present in query point\n",
            "Out of the top  100  features  0 are present in query point\n",
            "Out of the top  100  features  0 are present in query point\n",
            "Out of the top  100  features  0 are present in query point\n",
            "Out of the top  100  features  0 are present in query point\n",
            "Out of the top  100  features  0 are present in query point\n",
            "Out of the top  100  features  0 are present in query point\n",
            "Out of the top  100  features  0 are present in query point\n",
            "Out of the top  100  features  0 are present in query point\n",
            "Out of the top  100  features  0 are present in query point\n",
            "Out of the top  100  features  0 are present in query point\n",
            "Out of the top  100  features  0 are present in query point\n",
            "Out of the top  100  features  0 are present in query point\n",
            "Out of the top  100  features  0 are present in query point\n",
            "Out of the top  100  features  0 are present in query point\n",
            "Out of the top  100  features  0 are present in query point\n",
            "Out of the top  100  features  0 are present in query point\n",
            "Out of the top  100  features  0 are present in query point\n",
            "Out of the top  100  features  0 are present in query point\n",
            "Out of the top  100  features  0 are present in query point\n",
            "Out of the top  100  features  0 are present in query point\n",
            "Out of the top  100  features  0 are present in query point\n",
            "Out of the top  100  features  0 are present in query point\n",
            "Out of the top  100  features  0 are present in query point\n",
            "Out of the top  100  features  0 are present in query point\n",
            "Out of the top  100  features  0 are present in query point\n",
            "Out of the top  100  features  0 are present in query point\n",
            "Out of the top  100  features  0 are present in query point\n",
            "Out of the top  100  features  0 are present in query point\n",
            "Out of the top  100  features  0 are present in query point\n",
            "Out of the top  100  features  0 are present in query point\n",
            "Out of the top  100  features  0 are present in query point\n",
            "Out of the top  100  features  0 are present in query point\n",
            "Out of the top  100  features  0 are present in query point\n",
            "Out of the top  100  features  0 are present in query point\n",
            "Out of the top  100  features  0 are present in query point\n",
            "Out of the top  100  features  0 are present in query point\n",
            "Out of the top  100  features  0 are present in query point\n",
            "Out of the top  100  features  0 are present in query point\n",
            "Out of the top  100  features  0 are present in query point\n",
            "Out of the top  100  features  0 are present in query point\n",
            "Out of the top  100  features  0 are present in query point\n",
            "Out of the top  100  features  0 are present in query point\n",
            "Out of the top  100  features  0 are present in query point\n",
            "Out of the top  100  features  0 are present in query point\n",
            "Out of the top  100  features  0 are present in query point\n",
            "Out of the top  100  features  0 are present in query point\n",
            "Out of the top  100  features  0 are present in query point\n",
            "Out of the top  100  features  0 are present in query point\n",
            "Out of the top  100  features  0 are present in query point\n",
            "Out of the top  100  features  0 are present in query point\n",
            "Out of the top  100  features  0 are present in query point\n",
            "Out of the top  100  features  0 are present in query point\n",
            "Out of the top  100  features  0 are present in query point\n",
            "Out of the top  100  features  0 are present in query point\n",
            "Out of the top  100  features  0 are present in query point\n",
            "Out of the top  100  features  0 are present in query point\n",
            "Out of the top  100  features  0 are present in query point\n",
            "Out of the top  100  features  0 are present in query point\n",
            "Out of the top  100  features  0 are present in query point\n",
            "Out of the top  100  features  0 are present in query point\n",
            "Out of the top  100  features  0 are present in query point\n",
            "Out of the top  100  features  0 are present in query point\n",
            "Out of the top  100  features  0 are present in query point\n",
            "Out of the top  100  features  0 are present in query point\n",
            "Out of the top  100  features  0 are present in query point\n",
            "Out of the top  100  features  0 are present in query point\n",
            "Out of the top  100  features  0 are present in query point\n",
            "Out of the top  100  features  0 are present in query point\n",
            "Out of the top  100  features  0 are present in query point\n",
            "Out of the top  100  features  0 are present in query point\n",
            "Out of the top  100  features  0 are present in query point\n",
            "Out of the top  100  features  0 are present in query point\n",
            "Out of the top  100  features  0 are present in query point\n",
            "Out of the top  100  features  0 are present in query point\n"
          ],
          "name": "stdout"
        }
      ]
    },
    {
      "cell_type": "markdown",
      "metadata": {
        "id": "YqKcyErulrPt"
      },
      "source": [
        "<h4>4.1.1.4. Feature Importance, Incorrectly classified point</h4>"
      ]
    },
    {
      "cell_type": "code",
      "metadata": {
        "colab": {
          "base_uri": "https://localhost:8080/"
        },
        "id": "KkSo5-YxlsS6",
        "outputId": "daf650a7-6a37-40cb-d10a-e996f89a4c37"
      },
      "source": [
        "test_point_index=100\r\n",
        "no_feature=100\r\n",
        "predicted_cls=sig_clf.predict(test_x_onehotCoding[test_point_index])\r\n",
        "print(\"Predicted Class :\",predicted_cls[0])\r\n",
        "print(\"Predicted class probabilities:\",np.round(sig_clf.predict_proba(test_x_onehotCoding[test_point_index]),4))\r\n",
        "print(\"Actual Class :\", test_y[test_point_index])\r\n",
        "indices = np.argsort(-clf.coef_)[predicted_cls-1][:,:no_feature]\r\n",
        "print(\"-\"*50)\r\n",
        "get_impfeature_names(indices[0], X_test['Text'].iloc[test_point_index],X_test['Gene'].iloc[test_point_index],X_test['Variation'].iloc[test_point_index], no_feature)"
      ],
      "execution_count": 94,
      "outputs": [
        {
          "output_type": "stream",
          "text": [
            "Predicted Class : 7\n",
            "Predicted class probabilities: [[0.0583 0.0791 0.0614 0.0457 0.0314 0.0319 0.6848 0.003  0.0045]]\n",
            "Actual Class : 7\n",
            "--------------------------------------------------\n",
            "Out of the top  100  features  0 are present in query point\n",
            "Out of the top  100  features  0 are present in query point\n",
            "Out of the top  100  features  0 are present in query point\n",
            "Out of the top  100  features  0 are present in query point\n",
            "Out of the top  100  features  0 are present in query point\n",
            "Out of the top  100  features  0 are present in query point\n",
            "Out of the top  100  features  0 are present in query point\n",
            "Out of the top  100  features  0 are present in query point\n",
            "Out of the top  100  features  0 are present in query point\n",
            "Out of the top  100  features  0 are present in query point\n",
            "Out of the top  100  features  0 are present in query point\n",
            "Out of the top  100  features  0 are present in query point\n",
            "Out of the top  100  features  0 are present in query point\n",
            "Out of the top  100  features  0 are present in query point\n",
            "Out of the top  100  features  0 are present in query point\n",
            "Out of the top  100  features  0 are present in query point\n",
            "Out of the top  100  features  0 are present in query point\n",
            "Out of the top  100  features  0 are present in query point\n",
            "Out of the top  100  features  0 are present in query point\n",
            "Out of the top  100  features  0 are present in query point\n",
            "Out of the top  100  features  0 are present in query point\n",
            "Out of the top  100  features  0 are present in query point\n",
            "Out of the top  100  features  0 are present in query point\n",
            "Out of the top  100  features  0 are present in query point\n",
            "Out of the top  100  features  0 are present in query point\n",
            "Out of the top  100  features  0 are present in query point\n",
            "Out of the top  100  features  0 are present in query point\n",
            "Out of the top  100  features  0 are present in query point\n",
            "Out of the top  100  features  0 are present in query point\n",
            "Out of the top  100  features  0 are present in query point\n",
            "Out of the top  100  features  0 are present in query point\n",
            "Out of the top  100  features  0 are present in query point\n",
            "Out of the top  100  features  0 are present in query point\n",
            "Out of the top  100  features  0 are present in query point\n",
            "Out of the top  100  features  0 are present in query point\n",
            "Out of the top  100  features  0 are present in query point\n",
            "Out of the top  100  features  0 are present in query point\n",
            "Out of the top  100  features  0 are present in query point\n",
            "Out of the top  100  features  0 are present in query point\n",
            "Out of the top  100  features  0 are present in query point\n",
            "Out of the top  100  features  0 are present in query point\n",
            "Out of the top  100  features  0 are present in query point\n",
            "Out of the top  100  features  0 are present in query point\n",
            "Out of the top  100  features  0 are present in query point\n",
            "Out of the top  100  features  0 are present in query point\n",
            "Out of the top  100  features  0 are present in query point\n",
            "Out of the top  100  features  0 are present in query point\n",
            "Out of the top  100  features  0 are present in query point\n",
            "Out of the top  100  features  0 are present in query point\n",
            "Out of the top  100  features  0 are present in query point\n",
            "Out of the top  100  features  0 are present in query point\n",
            "Out of the top  100  features  0 are present in query point\n",
            "Out of the top  100  features  0 are present in query point\n",
            "Out of the top  100  features  0 are present in query point\n",
            "Out of the top  100  features  0 are present in query point\n",
            "Out of the top  100  features  0 are present in query point\n",
            "Out of the top  100  features  0 are present in query point\n",
            "Out of the top  100  features  0 are present in query point\n",
            "Out of the top  100  features  0 are present in query point\n",
            "Out of the top  100  features  0 are present in query point\n",
            "Out of the top  100  features  0 are present in query point\n",
            "Out of the top  100  features  0 are present in query point\n",
            "Out of the top  100  features  0 are present in query point\n",
            "Out of the top  100  features  0 are present in query point\n",
            "Out of the top  100  features  0 are present in query point\n",
            "Out of the top  100  features  0 are present in query point\n",
            "Out of the top  100  features  0 are present in query point\n",
            "Out of the top  100  features  0 are present in query point\n",
            "Out of the top  100  features  0 are present in query point\n",
            "Out of the top  100  features  0 are present in query point\n",
            "Out of the top  100  features  0 are present in query point\n",
            "Out of the top  100  features  0 are present in query point\n",
            "Out of the top  100  features  0 are present in query point\n",
            "Out of the top  100  features  0 are present in query point\n",
            "Out of the top  100  features  0 are present in query point\n",
            "Out of the top  100  features  0 are present in query point\n",
            "Out of the top  100  features  0 are present in query point\n",
            "Out of the top  100  features  0 are present in query point\n",
            "Out of the top  100  features  0 are present in query point\n",
            "Out of the top  100  features  0 are present in query point\n",
            "Out of the top  100  features  0 are present in query point\n",
            "Out of the top  100  features  0 are present in query point\n",
            "Out of the top  100  features  0 are present in query point\n",
            "Out of the top  100  features  0 are present in query point\n",
            "Out of the top  100  features  0 are present in query point\n",
            "Out of the top  100  features  0 are present in query point\n",
            "Out of the top  100  features  0 are present in query point\n",
            "Out of the top  100  features  0 are present in query point\n",
            "Out of the top  100  features  0 are present in query point\n",
            "Out of the top  100  features  0 are present in query point\n",
            "Out of the top  100  features  0 are present in query point\n",
            "Out of the top  100  features  0 are present in query point\n",
            "Out of the top  100  features  0 are present in query point\n",
            "Out of the top  100  features  0 are present in query point\n",
            "Out of the top  100  features  0 are present in query point\n",
            "Out of the top  100  features  0 are present in query point\n",
            "Out of the top  100  features  0 are present in query point\n",
            "Out of the top  100  features  0 are present in query point\n",
            "Out of the top  100  features  0 are present in query point\n",
            "Out of the top  100  features  0 are present in query point\n"
          ],
          "name": "stdout"
        }
      ]
    },
    {
      "cell_type": "markdown",
      "metadata": {
        "id": "uWmx4Zo-oYpX"
      },
      "source": [
        "<h2>K Nearest Neighbour Classification</h2>"
      ]
    },
    {
      "cell_type": "code",
      "metadata": {
        "colab": {
          "base_uri": "https://localhost:8080/",
          "height": 618
        },
        "id": "RQGqd4PzpjGO",
        "outputId": "d9e790d3-439d-445f-f408-813ae93d90fd"
      },
      "source": [
        "from sklearn.neighbors import KNeighborsClassifier\r\n",
        "alpha = [5, 11, 15, 21, 31, 41, 51, 99]\r\n",
        "cv_log_error_array = []\r\n",
        "for i in alpha:\r\n",
        "    print(\"for alpha =\", i)\r\n",
        "    clf = KNeighborsClassifier(n_neighbors=i)\r\n",
        "    clf.fit(train_x_onehotCoding, train_y)\r\n",
        "    sig_clf = CalibratedClassifierCV(clf, method=\"sigmoid\")\r\n",
        "    sig_clf.fit(train_x_onehotCoding, train_y)\r\n",
        "    sig_clf_probs = sig_clf.predict_proba(cv_x_onehotCoding)\r\n",
        "    cv_log_error_array.append(log_loss(cv_y, sig_clf_probs, labels=clf.classes_, eps=1e-15))\r\n",
        "    # to avoid rounding error while multiplying probabilites we use log-probability estimates\r\n",
        "    print(\"Log Loss :\",log_loss(cv_y, sig_clf_probs)) \r\n",
        "\r\n",
        "fig, ax = plt.subplots()\r\n",
        "ax.plot(alpha, cv_log_error_array,c='g')\r\n",
        "for i, txt in enumerate(np.round(cv_log_error_array,3)):\r\n",
        "    ax.annotate((alpha[i],str(txt)), (alpha[i],cv_log_error_array[i]))\r\n",
        "plt.grid()\r\n",
        "plt.title(\"Cross Validation Error for each alpha\")\r\n",
        "plt.xlabel(\"Alpha i's\")\r\n",
        "plt.ylabel(\"Error measure\")\r\n",
        "plt.show()\r\n",
        "\r\n",
        "\r\n",
        "best_alpha = np.argmin(cv_log_error_array)\r\n",
        "clf = KNeighborsClassifier(n_neighbors=alpha[best_alpha])\r\n",
        "clf.fit(train_x_onehotCoding, train_y)\r\n",
        "sig_clf = CalibratedClassifierCV(clf, method=\"sigmoid\")\r\n",
        "sig_clf.fit(train_x_onehotCoding, train_y)\r\n",
        "\r\n",
        "predict_y = sig_clf.predict_proba(train_x_onehotCoding)\r\n",
        "print('For values of best alpha = ', alpha[best_alpha], \"The train log loss is:\",log_loss(y_train_cv, predict_y, labels=clf.classes_, eps=1e-15))\r\n",
        "predict_y = sig_clf.predict_proba(cv_x_onehotCoding)\r\n",
        "print('For values of best alpha = ', alpha[best_alpha], \"The cross validation log loss is:\",log_loss(y_cv, predict_y, labels=clf.classes_, eps=1e-15))\r\n",
        "predict_y = sig_clf.predict_proba(test_x_onehotCoding)\r\n",
        "print('For values of best alpha = ', alpha[best_alpha], \"The test log loss is:\",log_loss(y_test, predict_y, labels=clf.classes_, eps=1e-15))\r\n"
      ],
      "execution_count": 96,
      "outputs": [
        {
          "output_type": "stream",
          "text": [
            "for alpha = 5\n",
            "Log Loss : 1.2899020510499795\n",
            "for alpha = 11\n",
            "Log Loss : 1.2613247356676995\n",
            "for alpha = 15\n",
            "Log Loss : 1.2665389728714282\n",
            "for alpha = 21\n",
            "Log Loss : 1.2872141116503355\n",
            "for alpha = 31\n",
            "Log Loss : 1.2950156571705311\n",
            "for alpha = 41\n",
            "Log Loss : 1.3137865893626366\n",
            "for alpha = 51\n",
            "Log Loss : 1.3524352378812554\n",
            "for alpha = 99\n",
            "Log Loss : 1.4201277358446946\n"
          ],
          "name": "stdout"
        },
        {
          "output_type": "display_data",
          "data": {
            "image/png": "[encoded data removed]",
            "text/plain": [
              "<Figure size 432x288 with 1 Axes>"
            ]
          },
          "metadata": {
            "tags": [],
            "needs_background": "light"
          }
        },
        {
          "output_type": "stream",
          "text": [
            "For values of best alpha =  11 The train log loss is: 1.0388378698687546\n",
            "For values of best alpha =  11 The cross validation log loss is: 1.2613247356676995\n",
            "For values of best alpha =  11 The test log loss is: 1.2638148146386234\n"
          ],
          "name": "stdout"
        }
      ]
    },
    {
      "cell_type": "markdown",
      "metadata": {
        "id": "XpbjH2a0oYUG"
      },
      "source": [
        "<h3>Hyper parameter tuning</h3>"
      ]
    },
    {
      "cell_type": "markdown",
      "metadata": {
        "id": "8gOIZzUQpLgl"
      },
      "source": [
        "<h4> Testing the model with best hyper paramters</h4>"
      ]
    },
    {
      "cell_type": "code",
      "metadata": {
        "colab": {
          "base_uri": "https://localhost:8080/",
          "height": 1000
        },
        "id": "7QXOoUN_qEBJ",
        "outputId": "d080e218-4e1a-4632-80d5-6ab379ae4ae2"
      },
      "source": [
        "clf = KNeighborsClassifier(n_neighbors=alpha[best_alpha])\r\n",
        "predict_and_plot_confusion_matrix(train_x_onehotCoding, train_y, cv_x_onehotCoding, cv_y, clf)"
      ],
      "execution_count": 97,
      "outputs": [
        {
          "output_type": "stream",
          "text": [
            "Log loss : 1.2613247356676995\n",
            "Number of mis-classified points : 0.4417293233082707\n",
            "-------------------- Confusion matrix --------------------\n"
          ],
          "name": "stdout"
        },
        {
          "output_type": "stream",
          "text": [
            "/usr/local/lib/python3.6/dist-packages/ipykernel_launcher.py:4: RuntimeWarning: invalid value encountered in true_divide\n",
            "  after removing the cwd from sys.path.\n"
          ],
          "name": "stderr"
        },
        {
          "output_type": "display_data",
          "data": {
            "image/png": "[encoded data removed]",
            "text/plain": [
              "<Figure size 1440x504 with 2 Axes>"
            ]
          },
          "metadata": {
            "tags": [],
            "needs_background": "light"
          }
        },
        {
          "output_type": "stream",
          "text": [
            "-------------------- Precision matrix (Columm Sum=1) --------------------\n"
          ],
          "name": "stdout"
        },
        {
          "output_type": "display_data",
          "data": {
            "image/png": "[encoded data removed]",
            "text/plain": [
              "<Figure size 1440x504 with 2 Axes>"
            ]
          },
          "metadata": {
            "tags": [],
            "needs_background": "light"
          }
        },
        {
          "output_type": "stream",
          "text": [
            "-------------------- Recall matrix (Row sum=1) --------------------\n"
          ],
          "name": "stdout"
        },
        {
          "output_type": "display_data",
          "data": {
            "image/png": "[encoded data removed]",
            "text/plain": [
              "<Figure size 1440x504 with 2 Axes>"
            ]
          },
          "metadata": {
            "tags": [],
            "needs_background": "light"
          }
        }
      ]
    },
    {
      "cell_type": "markdown",
      "metadata": {
        "id": "J2YaojpTqus5"
      },
      "source": [
        "<h3>Sample Query Point-1 </h3>"
      ]
    },
    {
      "cell_type": "code",
      "metadata": {
        "colab": {
          "base_uri": "https://localhost:8080/"
        },
        "id": "VqLZdBcapF3R",
        "outputId": "12e582ed-314a-455b-e7fd-bb624a76b01a"
      },
      "source": [
        "clf = KNeighborsClassifier(n_neighbors=alpha[best_alpha])\r\n",
        "clf.fit(train_x_onehotCoding, train_y)\r\n",
        "sig_clf = CalibratedClassifierCV(clf, method=\"sigmoid\")\r\n",
        "sig_clf.fit(train_x_onehotCoding, train_y)\r\n",
        "\r\n",
        "test_point_index = 1\r\n",
        "predicted_cls = sig_clf.predict(test_x_onehotCoding[0].reshape(1,-1))\r\n",
        "print(\"Predicted Class :\", predicted_cls[0])\r\n",
        "print(\"Actual Class :\", test_y[test_point_index])\r\n",
        "neighbors = clf.kneighbors(test_x_onehotCoding[test_point_index].reshape(1, -1), alpha[best_alpha])\r\n",
        "print(\"The \",alpha[best_alpha],\" nearest neighbours of the test points belongs to classes\",train_y[neighbors[1][0]])\r\n",
        "print(\"Fequency of nearest points :\",Counter(train_y[neighbors[1][0]]))"
      ],
      "execution_count": 98,
      "outputs": [
        {
          "output_type": "stream",
          "text": [
            "Predicted Class : 4\n",
            "Actual Class : 4\n",
            "The  11  nearest neighbours of the test points belongs to classes [4 4 4 4 6 4 4 4 4 1 4]\n",
            "Fequency of nearest points : Counter({4: 9, 6: 1, 1: 1})\n"
          ],
          "name": "stdout"
        }
      ]
    },
    {
      "cell_type": "markdown",
      "metadata": {
        "id": "ePg9aDUEqsWy"
      },
      "source": [
        "<h3>Sample Query Point-2 </h3>"
      ]
    },
    {
      "cell_type": "code",
      "metadata": {
        "colab": {
          "base_uri": "https://localhost:8080/"
        },
        "id": "n4XZH6VapFz1",
        "outputId": "aacbc154-75d5-405d-d643-0dd31a849c46"
      },
      "source": [
        "clf = KNeighborsClassifier(n_neighbors=alpha[best_alpha])\r\n",
        "clf.fit(train_x_onehotCoding, train_y)\r\n",
        "sig_clf = CalibratedClassifierCV(clf, method=\"sigmoid\")\r\n",
        "sig_clf.fit(train_x_onehotCoding, train_y)\r\n",
        "\r\n",
        "test_point_index = 100\r\n",
        "\r\n",
        "predicted_cls = sig_clf.predict(test_x_onehotCoding[test_point_index].reshape(1,-1))\r\n",
        "print(\"Predicted Class :\", predicted_cls[0])\r\n",
        "print(\"Actual Class :\", test_y[test_point_index])\r\n",
        "neighbors = clf.kneighbors(test_x_onehotCoding[test_point_index].reshape(1, -1), alpha[best_alpha])\r\n",
        "print(\"the k value for knn is\",alpha[best_alpha],\"and the nearest neighbours of the test points belongs to classes\",train_y[neighbors[1][0]])\r\n",
        "print(\"Fequency of nearest points :\",Counter(train_y[neighbors[1][0]]))"
      ],
      "execution_count": 99,
      "outputs": [
        {
          "output_type": "stream",
          "text": [
            "Predicted Class : 7\n",
            "Actual Class : 7\n",
            "the k value for knn is 11 and the nearest neighbours of the test points belongs to classes [2 7 2 2 7 3 3 7 3 2 7]\n",
            "Fequency of nearest points : Counter({2: 4, 7: 4, 3: 3})\n"
          ],
          "name": "stdout"
        }
      ]
    },
    {
      "cell_type": "code",
      "metadata": {
        "id": "bE5Jn7_ZEjm8"
      },
      "source": [
        ""
      ],
      "execution_count": null,
      "outputs": []
    }
  ]
}